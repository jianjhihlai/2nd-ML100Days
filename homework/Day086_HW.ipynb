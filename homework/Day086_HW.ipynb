{
 "cells": [
  {
   "cell_type": "markdown",
   "metadata": {},
   "source": [
    "## Work\n",
    "1. 試比較 save_best_only 與否的差異\n",
    "2. 請僅存入將 save_weights_only 設定為 True, 並嘗試 reset ipynb 並將模型與權重重新建回並預測 x_test"
   ]
  },
  {
   "cell_type": "code",
   "execution_count": null,
   "metadata": {},
   "outputs": [],
   "source": [
    "import os\n",
    "import keras\n",
    "\n",
    "# Disable GPU\n",
    "os.environ[\"CUDA_VISIBLE_DEVICES\"] = \"\""
   ]
  },
  {
   "cell_type": "code",
   "execution_count": null,
   "metadata": {},
   "outputs": [],
   "source": [
    "train, test = keras.datasets.cifar10.load_data()"
   ]
  },
  {
   "cell_type": "code",
   "execution_count": null,
   "metadata": {},
   "outputs": [],
   "source": [
    "## 資料前處理\n",
    "def preproc_x(x, flatten=True):\n",
    "    x = x / 255.\n",
    "    if flatten:\n",
    "        x = x.reshape((len(x), -1))\n",
    "    return x\n",
    "\n",
    "def preproc_y(y, num_classes=10):\n",
    "    if y.shape[-1] == 1:\n",
    "        y = keras.utils.to_categorical(y, num_classes)\n",
    "    return y    "
   ]
  },
  {
   "cell_type": "code",
   "execution_count": null,
   "metadata": {},
   "outputs": [],
   "source": [
    "x_train, y_train = train\n",
    "x_test, y_test = test\n",
    "\n",
    "# Preproc the inputs\n",
    "x_train = preproc_x(x_train)\n",
    "x_test = preproc_x(x_test)\n",
    "\n",
    "# Preprc the outputs\n",
    "y_train = preproc_y(y_train)\n",
    "y_test = preproc_y(y_test)"
   ]
  },
  {
   "cell_type": "code",
   "execution_count": null,
   "metadata": {},
   "outputs": [],
   "source": [
    "from keras.layers import BatchNormalization\n",
    "def build_mlp(input_shape, output_units=10, num_neurons=[512, 256, 128]):\n",
    "    \"\"\"Code Here\n",
    "    建立你的神經網路\n",
    "    \"\"\"\n",
    "    input_layer = keras.layers.Input(input_shape)\n",
    "    \n",
    "    for i, n_units in enumerate(num_neurons):\n",
    "        if i == 0:\n",
    "            x = keras.layers.Dense(units=n_units,\n",
    "                                   activation='relu',\n",
    "                                   name=\"hidden_layer\" + str(i+1))(input_layer)\n",
    "        else:\n",
    "            x = keras.layers.Dense(num_units,\n",
    "                                   activation='relu',\n",
    "                                   name=\"hidden_layer\" + str(i+1)))(x)\n",
    "    x = BatchNormalization()(x)\n",
    "    out = keras.layers.Dense(units=output_units, activation=\"softmax\", name=\"output\")(x)\n",
    "    \n",
    "    model = keras.models.Model(inputs=[input_layer], outputs=out)\n",
    "    return model"
   ]
  },
  {
   "cell_type": "code",
   "execution_count": null,
   "metadata": {},
   "outputs": [],
   "source": [
    "\"\"\"Code Here\n",
    "設定超參數\n",
    "\"\"\"\n",
    "LEARNING_RATE = 1e-3\n",
    "EPOCHS = 50\n",
    "BATCH_SIZE = 1024\n",
    "MOMENTUM = 0.95"
   ]
  },
  {
   "cell_type": "code",
   "execution_count": null,
   "metadata": {},
   "outputs": [],
   "source": [
    "# 載入 Callbacks\n",
    "\"\"\"Code Here\n",
    "設定 callbacks: model checkpoint\n",
    "\"\"\"\n",
    "model_ckpt_best = keras.ModelCheckpoint(filepath=\"./best.h5\", monitor=\"val_loss\", save_best_only=True)\n",
    "model_ckpt = keras.ModelCheckpoint(filepath=\"./checkpoint.h5\", monitor=\"val_loss\", save_best_only=False)\n",
    "model_ckpt_onlyw = keras.ModelCheckpoint(filepath=\"./best_onlyw.h5\", monitor=\"val_loss\", save_best_only=True, save_weights_only=True)"
   ]
  },
  {
   "cell_type": "code",
   "execution_count": null,
   "metadata": {},
   "outputs": [],
   "source": [
    "results = {}\n",
    "\"\"\"Code Here\n",
    "撰寫你的訓練流程並將結果用 dictionary 紀錄\n",
    "\"\"\"\n",
    "model = build_mlp(input_shape=x_train.shape[1:])\n",
    "model.summary()\n",
    "keras.optimizers.SGD(lr=LEARNING_RATE, nesterov=True, momentum=MOMENTUM)\n",
    "optimizer = keras.optimizers.SGD(lr=LEARNING_RATE, nesterov=True, momentum=MOMENTUM)\n",
    "\n",
    "model.compile(loss=\"categorical_crossentropy\", metrics=[\"accuracy\"], optimizer=optimizer)\n",
    "model.fit(x_train, y_train, \n",
    "          epochs=EPOCHS, \n",
    "          batch_size=BATCH_SIZE, \n",
    "          validation_data=(x_test, y_test), \n",
    "          shuffle=True,\n",
    "          callbacks=[model_ckpt_best, model_ckpt, model_ckpt_onlyw]\n",
    "         )\n",
    "\n",
    "train_loss = model.history.history['train_loss']\n",
    "valid_loss = model.history.history['valid_loss']\n",
    "train_acc = model.history.history['train_acc']\n",
    "valid_acc = model.history.history['valid_acc']\n",
    "\n",
    "# Load back\n",
    "model = keras.models.load_model(\"./best.h5\")\n",
    "loss_best, acc_best = model.evaluate(x_test, y_test)\n",
    "model = keras.models.load_model(\"./checkpoint.h5\")\n",
    "loss_last, acc_last = model.evaluate(x_test, y_test)\n",
    "model = build_mlp(input_shape=x_train.shape[1:])\n",
    "model.load_weights(\"./checkpoint_onlyw.h5\")\n",
    "loss_best2, acc_best2 = model.evaluate(x_test, y_test)"
   ]
  },
  {
   "cell_type": "code",
   "execution_count": null,
   "metadata": {
    "scrolled": true
   },
   "outputs": [],
   "source": [
    "import matplotlib.pyplot as plt\n",
    "%matplotlib inline\n",
    "\"\"\"Code Here\n",
    "將結果繪出\n",
    "\"\"\"\n",
    "plt.figure(figsize=(12, 9))\n",
    "plt.plot(range(len(train_loss)), train_loss, '-', label='train loss')\n",
    "plt.plot(range(len(valid_loss)), valid_loss, '-', label='valid loss')\n",
    "plt.hlines(y=loss_best, xmin=0, xmax=len(train_loss), colors='r', linestyles='--')\n",
    "plt.hlines(y=loss_last, xmin=0, xmax=len(train_loss), colors='m', linestyles='--')\n",
    "plt.hlines(y=loss_best2, xmin=0, xmax=len(train_loss), colors='k', linestyles='--')\n",
    "plt.title('Loss')\n",
    "plt.legend()\n",
    "plt.show()\n",
    "\n",
    "plt.figure(figsize=(12, 9))\n",
    "plt.plot(range(len(train_acc)), train_acc, '-', label='train accuracy')\n",
    "plt.plot(range(len(valid_acc)), valid_acc, '--', label='valid accuracy')\n",
    "plt.hlines(y=acc_best, xmin=0, xmax=len(train_acc), colors='r', linestyles='--')\n",
    "plt.hlines(y=acc_last, xmin=0, xmax=len(train_acc), colors='m', linestyles='--')\n",
    "plt.hlines(y=acc_best2, xmin=0, xmax=len(train_acc), colors='k', linestyles='--')\n",
    "plt.title('Accuracy')\n",
    "plt.legend()\n",
    "plt.show()"
   ]
  }
 ],
 "metadata": {
  "kernelspec": {
   "display_name": "Python 3",
   "language": "python",
   "name": "python3"
  },
  "language_info": {
   "codemirror_mode": {
    "name": "ipython",
    "version": 3
   },
   "file_extension": ".py",
   "mimetype": "text/x-python",
   "name": "python",
   "nbconvert_exporter": "python",
   "pygments_lexer": "ipython3",
   "version": "3.7.3"
  }
 },
 "nbformat": 4,
 "nbformat_minor": 2
}
