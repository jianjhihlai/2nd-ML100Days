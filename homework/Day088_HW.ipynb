{
 "cells": [
  {
   "cell_type": "markdown",
   "metadata": {},
   "source": [
    "## Work\n",
    "1. 請嘗試寫一個 callback 用來記錄各類別在訓練過程中，對驗證集的 True Positive 與 True Negative"
   ]
  },
  {
   "cell_type": "code",
   "execution_count": 1,
   "metadata": {},
   "outputs": [
    {
     "name": "stderr",
     "output_type": "stream",
     "text": [
      "Using TensorFlow backend.\n"
     ]
    }
   ],
   "source": [
    "import os\n",
    "import keras\n",
    "\n",
    "# Disable GPU\n",
    "os.environ[\"CUDA_VISIBLE_DEVICES\"] = \"\""
   ]
  },
  {
   "cell_type": "code",
   "execution_count": 2,
   "metadata": {},
   "outputs": [],
   "source": [
    "train, test = keras.datasets.cifar10.load_data()"
   ]
  },
  {
   "cell_type": "code",
   "execution_count": 3,
   "metadata": {},
   "outputs": [],
   "source": [
    "## 資料前處理\n",
    "def preproc_x(x, flatten=True):\n",
    "    x = x / 255.\n",
    "    if flatten:\n",
    "        x = x.reshape((len(x), -1))\n",
    "    return x\n",
    "\n",
    "def preproc_y(y, num_classes=10):\n",
    "    if y.shape[-1] == 1:\n",
    "        y = keras.utils.to_categorical(y, num_classes)\n",
    "    return y    "
   ]
  },
  {
   "cell_type": "code",
   "execution_count": 4,
   "metadata": {},
   "outputs": [],
   "source": [
    "x_train, y_train = train\n",
    "x_test, y_test = test\n",
    "\n",
    "# Preproc the inputs\n",
    "x_train = preproc_x(x_train)\n",
    "x_test = preproc_x(x_test)\n",
    "\n",
    "# Preprc the outputs\n",
    "y_train = preproc_y(y_train)\n",
    "y_test = preproc_y(y_test)"
   ]
  },
  {
   "cell_type": "code",
   "execution_count": 5,
   "metadata": {},
   "outputs": [],
   "source": [
    "from keras.layers import BatchNormalization\n",
    "def build_mlp(input_shape, output_units=10, num_neurons=[256, 256, 256]):\n",
    "    \"\"\"Code Here\n",
    "    建立你的神經網路\n",
    "    \"\"\"\n",
    "    input_layer = keras.layers.Input(input_shape)\n",
    "    \n",
    "    for i, n_units in enumerate(num_neurons):\n",
    "        if i == 0:\n",
    "            x = keras.layers.Dense(units=n_units, \n",
    "                                   activation=\"relu\", \n",
    "                                   name=\"hidden_layer\"+str(i+1))(input_layer)\n",
    "            x = BatchNormalization()(x)\n",
    "        else:\n",
    "            x = keras.layers.Dense(units=n_units, \n",
    "                                   activation=\"relu\", \n",
    "                                   name=\"hidden_layer\"+str(i+1))(x)\n",
    "            x = BatchNormalization()(x)\n",
    "    \n",
    "    out = keras.layers.Dense(units=output_units, activation=\"softmax\", name=\"output\")(x)\n",
    "    \n",
    "    model = keras.models.Model(inputs=[input_layer], outputs=[out])\n",
    "    return model"
   ]
  },
  {
   "cell_type": "code",
   "execution_count": 6,
   "metadata": {},
   "outputs": [],
   "source": [
    "## 超參數設定\n",
    "LEARNING_RATE = 1e-3\n",
    "EPOCHS = 25\n",
    "BATCH_SIZE = 1024\n",
    "MOMENTUM = 0.95"
   ]
  },
  {
   "cell_type": "code",
   "execution_count": 9,
   "metadata": {},
   "outputs": [],
   "source": [
    "# 載入 Callbacks\n",
    "from keras.callbacks import Callback\n",
    "from sklearn.metrics import confusion_matrix\n",
    "import numpy as np\n",
    "\n",
    "\n",
    "# Record_fp_tp\n",
    "class Record_tp_tn(Callback):\n",
    "    \"\"\"Code Here\n",
    "    撰寫一個紀錄 ture positive 與 true negative 數量的 callbacks    \n",
    "    \"\"\"\n",
    "    def on_train_begin(self, epoch, logs={}):\n",
    "        logs = logs or {}\n",
    "        record_items = [\"val_tp\", \"val_tn\"]\n",
    "        for i in record_items:\n",
    "            if i not in self.params['metrics']:\n",
    "                self.params['metrics'].append(i)\n",
    "                \n",
    "    def on_epoch_end(self, epoch, logs = {}, thres=0.5):\n",
    "        logs = logs or {}\n",
    "        y_true = self.validation_data[1].argmax(axis=1)\n",
    "        y_pred = self.model.predict(self.validation_data[0])\n",
    "        y_pred = (y_pred[:, 1] >= thres) * 1\n",
    "        cm = confusion_matrix(y_true, y_pred)\n",
    "        FP = cm.sum(axis=0) - np.diag(cm)  \n",
    "        FN = cm.sum(axis=1) - np.diag(cm)\n",
    "        TP = np.diag(cm)\n",
    "        TN = cm.sum() - (FP + FN + TP)\n",
    "        \n",
    "        logs['val_tp'] = TP\n",
    "        logs['val_tn'] = TN\n",
    "        \n",
    "rec_tptn = Record_tp_tn()"
   ]
  },
  {
   "cell_type": "code",
   "execution_count": 10,
   "metadata": {
    "scrolled": true
   },
   "outputs": [
    {
     "name": "stdout",
     "output_type": "stream",
     "text": [
      "_________________________________________________________________\n",
      "Layer (type)                 Output Shape              Param #   \n",
      "=================================================================\n",
      "input_2 (InputLayer)         (None, 3072)              0         \n",
      "_________________________________________________________________\n",
      "hidden_layer1 (Dense)        (None, 256)               786688    \n",
      "_________________________________________________________________\n",
      "batch_normalization_4 (Batch (None, 256)               1024      \n",
      "_________________________________________________________________\n",
      "hidden_layer2 (Dense)        (None, 256)               65792     \n",
      "_________________________________________________________________\n",
      "batch_normalization_5 (Batch (None, 256)               1024      \n",
      "_________________________________________________________________\n",
      "hidden_layer3 (Dense)        (None, 256)               65792     \n",
      "_________________________________________________________________\n",
      "batch_normalization_6 (Batch (None, 256)               1024      \n",
      "_________________________________________________________________\n",
      "output (Dense)               (None, 10)                2570      \n",
      "=================================================================\n",
      "Total params: 923,914\n",
      "Trainable params: 922,378\n",
      "Non-trainable params: 1,536\n",
      "_________________________________________________________________\n",
      "Train on 50000 samples, validate on 10000 samples\n",
      "Epoch 1/25\n",
      "50000/50000 [==============================] - 5s 99us/step - loss: 2.2417 - acc: 0.2647 - val_loss: 2.1303 - val_acc: 0.3138\n",
      "Epoch 2/25\n",
      "50000/50000 [==============================] - 4s 81us/step - loss: 1.7578 - acc: 0.3871 - val_loss: 1.8188 - val_acc: 0.3768\n",
      "Epoch 3/25\n",
      "50000/50000 [==============================] - 4s 78us/step - loss: 1.6254 - acc: 0.4303 - val_loss: 1.7075 - val_acc: 0.4017\n",
      "Epoch 4/25\n",
      "50000/50000 [==============================] - 4s 79us/step - loss: 1.5532 - acc: 0.4556 - val_loss: 1.6410 - val_acc: 0.4273\n",
      "Epoch 5/25\n",
      "50000/50000 [==============================] - 4s 79us/step - loss: 1.4975 - acc: 0.4756 - val_loss: 1.5993 - val_acc: 0.4384\n",
      "Epoch 6/25\n",
      "50000/50000 [==============================] - 4s 77us/step - loss: 1.4529 - acc: 0.4902 - val_loss: 1.5661 - val_acc: 0.4517\n",
      "Epoch 7/25\n",
      "50000/50000 [==============================] - 4s 77us/step - loss: 1.4146 - acc: 0.5041 - val_loss: 1.5504 - val_acc: 0.4572\n",
      "Epoch 8/25\n",
      "50000/50000 [==============================] - 4s 76us/step - loss: 1.3830 - acc: 0.5180 - val_loss: 1.5314 - val_acc: 0.4560\n",
      "Epoch 9/25\n",
      "50000/50000 [==============================] - 4s 77us/step - loss: 1.3530 - acc: 0.5292 - val_loss: 1.5112 - val_acc: 0.4728\n",
      "Epoch 10/25\n",
      "50000/50000 [==============================] - 4s 76us/step - loss: 1.3258 - acc: 0.5389 - val_loss: 1.5120 - val_acc: 0.4713\n",
      "Epoch 11/25\n",
      "50000/50000 [==============================] - 4s 78us/step - loss: 1.3000 - acc: 0.5463 - val_loss: 1.4880 - val_acc: 0.4757\n",
      "Epoch 12/25\n",
      "50000/50000 [==============================] - 4s 77us/step - loss: 1.2762 - acc: 0.5565 - val_loss: 1.4791 - val_acc: 0.4817\n",
      "Epoch 13/25\n",
      "50000/50000 [==============================] - 4s 81us/step - loss: 1.2539 - acc: 0.5640 - val_loss: 1.4827 - val_acc: 0.4797\n",
      "Epoch 14/25\n",
      "50000/50000 [==============================] - 4s 77us/step - loss: 1.2326 - acc: 0.5725 - val_loss: 1.4720 - val_acc: 0.4804\n",
      "Epoch 15/25\n",
      "50000/50000 [==============================] - 4s 79us/step - loss: 1.2121 - acc: 0.5807 - val_loss: 1.4560 - val_acc: 0.4861\n",
      "Epoch 16/25\n",
      "50000/50000 [==============================] - 4s 77us/step - loss: 1.1899 - acc: 0.5866 - val_loss: 1.4607 - val_acc: 0.4901\n",
      "Epoch 17/25\n",
      "50000/50000 [==============================] - 4s 78us/step - loss: 1.1722 - acc: 0.5937 - val_loss: 1.4676 - val_acc: 0.4891\n",
      "Epoch 18/25\n",
      "50000/50000 [==============================] - 4s 77us/step - loss: 1.1526 - acc: 0.6028 - val_loss: 1.4445 - val_acc: 0.4915\n",
      "Epoch 19/25\n",
      "50000/50000 [==============================] - 4s 78us/step - loss: 1.1343 - acc: 0.6095 - val_loss: 1.4444 - val_acc: 0.4980\n",
      "Epoch 20/25\n",
      "50000/50000 [==============================] - 4s 78us/step - loss: 1.1160 - acc: 0.6165 - val_loss: 1.4555 - val_acc: 0.4907\n",
      "Epoch 21/25\n",
      "50000/50000 [==============================] - 4s 78us/step - loss: 1.0987 - acc: 0.6232 - val_loss: 1.4339 - val_acc: 0.4972\n",
      "Epoch 22/25\n",
      "50000/50000 [==============================] - 4s 78us/step - loss: 1.0804 - acc: 0.6306 - val_loss: 1.4460 - val_acc: 0.4961\n",
      "Epoch 23/25\n",
      "50000/50000 [==============================] - 4s 79us/step - loss: 1.0641 - acc: 0.6367 - val_loss: 1.4433 - val_acc: 0.4967\n",
      "Epoch 24/25\n",
      "50000/50000 [==============================] - 4s 79us/step - loss: 1.0476 - acc: 0.6416 - val_loss: 1.4500 - val_acc: 0.4985\n",
      "Epoch 25/25\n",
      "50000/50000 [==============================] - 4s 77us/step - loss: 1.0287 - acc: 0.6508 - val_loss: 1.4403 - val_acc: 0.5038\n"
     ]
    }
   ],
   "source": [
    "model = build_mlp(input_shape=x_train.shape[1:])\n",
    "model.summary()\n",
    "optimizer = keras.optimizers.SGD(lr=LEARNING_RATE, nesterov=True, momentum=MOMENTUM)\n",
    "model.compile(loss=\"categorical_crossentropy\", metrics=[\"accuracy\"], optimizer=optimizer)\n",
    "\n",
    "\"\"\"Code Here\n",
    "將 callbacks 放入模型訓練流程中\n",
    "\"\"\"\n",
    "model.fit(x_train, y_train, \n",
    "          epochs=EPOCHS, \n",
    "          batch_size=BATCH_SIZE, \n",
    "          validation_data=(x_test, y_test), \n",
    "          shuffle=True,\n",
    "          callbacks=[rec_tptn]\n",
    "         )\n",
    "\n",
    "# Collect results\n",
    "train_loss = model.history.history[\"loss\"]\n",
    "valid_loss = model.history.history[\"val_loss\"]\n",
    "train_acc = model.history.history[\"acc\"]\n",
    "valid_acc = model.history.history[\"val_acc\"]\n",
    "\n",
    "\"\"\"Code Here\n",
    "將 tp/tn 從訓練完的模型中取出\n",
    "\"\"\"\n",
    "valid_tp = model.history.history['val_tp']\n",
    "valid_tn = model.history.history['val_tn']"
   ]
  },
  {
   "cell_type": "code",
   "execution_count": 11,
   "metadata": {},
   "outputs": [
    {
     "data": {
      "image/png": "[encoded data removed]",
      "text/plain": [
       "<Figure size 432x288 with 1 Axes>"
      ]
     },
     "metadata": {},
     "output_type": "display_data"
    },
    {
     "data": {
      "image/png": "[encoded data removed]",
      "text/plain": [
       "<Figure size 432x288 with 1 Axes>"
      ]
     },
     "metadata": {},
     "output_type": "display_data"
    },
    {
     "data": {
      "image/png": "[encoded data removed]",
      "text/plain": [
       "<Figure size 432x288 with 1 Axes>"
      ]
     },
     "metadata": {},
     "output_type": "display_data"
    }
   ],
   "source": [
    "import matplotlib.pyplot as plt\n",
    "%matplotlib inline\n",
    "\n",
    "plt.plot(range(len(train_loss)), train_loss, label=\"train loss\")\n",
    "plt.plot(range(len(valid_loss)), valid_loss, label=\"valid loss\")\n",
    "plt.legend()\n",
    "plt.title(\"Loss\")\n",
    "plt.show()\n",
    "\n",
    "plt.plot(range(len(train_acc)), train_acc, label=\"train accuracy\")\n",
    "plt.plot(range(len(valid_acc)), valid_acc, label=\"valid accuracy\")\n",
    "plt.legend()\n",
    "plt.title(\"Accuracy\")\n",
    "plt.show()\n",
    "\n",
    "plt.plot(range(len(valid_tp)), valid_tp, label=\"valid tp\", color=\"navy\")\n",
    "plt.plot(range(len(valid_tn)), valid_tn, label=\"valid tn\", color=\"red\")\n",
    "plt.legend()\n",
    "plt.title(\"True positives and True Negatives\")\n",
    "plt.show()\n"
   ]
  }
 ],
 "metadata": {
  "kernelspec": {
   "display_name": "Python 3",
   "language": "python",
   "name": "python3"
  },
  "language_info": {
   "codemirror_mode": {
    "name": "ipython",
    "version": 3
   },
   "file_extension": ".py",
   "mimetype": "text/x-python",
   "name": "python",
   "nbconvert_exporter": "python",
   "pygments_lexer": "ipython3",
   "version": "3.5.5"
  }
 },
 "nbformat": 4,
 "nbformat_minor": 2
}
