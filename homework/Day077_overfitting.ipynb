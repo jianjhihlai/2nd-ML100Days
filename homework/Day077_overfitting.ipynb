{
 "cells": [
  {
   "cell_type": "markdown",
   "metadata": {},
   "source": [
    "## 範例重點\n",
    "* 學會從 Keras 內建函式取得資料\n",
    "* 能夠建立簡易的深度學習模型\n",
    "* 觀察並了解 Overfit 現象"
   ]
  },
  {
   "cell_type": "code",
   "execution_count": 2,
   "metadata": {},
   "outputs": [],
   "source": [
    "import os\n",
    "import keras\n",
    "\n",
    "# 本範例不需使用 GPU, 將 GPU 設定為 \"無\"\n",
    "os.environ[\"CUDA_VISIBLE_DEVICES\"] = \"\""
   ]
  },
  {
   "cell_type": "code",
   "execution_count": 3,
   "metadata": {},
   "outputs": [],
   "source": [
    "# 從 Keras 的內建功能中，取得 train 與 test 資料集\n",
    "train, test = keras.datasets.cifar10.load_data()"
   ]
  },
  {
   "cell_type": "code",
   "execution_count": 4,
   "metadata": {},
   "outputs": [],
   "source": [
    "# 將 X 與 Y 獨立放進變數\n",
    "x_train, y_train = train\n",
    "x_test, y_test = test\n",
    "# 資料前處理 - 標準化\n",
    "x_train = x_train / 255.\n",
    "x_test = x_test / 255.\n",
    "\n",
    "# 將資料從圖形 (RGB) 轉為向量 (Single Vector)\n",
    "x_train = x_train.reshape((len(x_train), -1))\n",
    "x_test = x_test.reshape((len(x_test), -1))\n",
    "\n",
    "# 將目標轉為 one-hot encoding\n",
    "y_train = keras.utils.to_categorical(y_train, num_classes=10)\n",
    "y_test = keras.utils.to_categorical(y_test, num_classes=10)"
   ]
  },
  {
   "cell_type": "code",
   "execution_count": 5,
   "metadata": {},
   "outputs": [],
   "source": [
    "# 建立一個有三層隱藏層之神經網路\n",
    "def build_mlp():\n",
    "    input_layer = keras.layers.Input([x_train.shape[-1]])\n",
    "    x = keras.layers.Dense(units=512, activation=\"relu\")(input_layer)\n",
    "    x = keras.layers.Dense(units=256, activation=\"relu\")(x)\n",
    "    x = keras.layers.Dense(units=128, activation=\"relu\")(x)\n",
    "    out = keras.layers.Dense(units=10, activation=\"softmax\")(x)\n",
    "    \n",
    "    model = keras.models.Model(inputs=[input_layer], outputs=[out])\n",
    "    return model"
   ]
  },
  {
   "cell_type": "code",
   "execution_count": 6,
   "metadata": {},
   "outputs": [
    {
     "name": "stdout",
     "output_type": "stream",
     "text": [
      "WARNING:tensorflow:From c:\\python\\miniconda3\\envs\\lsi_env\\lib\\site-packages\\tensorflow\\python\\framework\\op_def_library.py:263: colocate_with (from tensorflow.python.framework.ops) is deprecated and will be removed in a future version.\n",
      "Instructions for updating:\n",
      "Colocations handled automatically by placer.\n",
      "_________________________________________________________________\n",
      "Layer (type)                 Output Shape              Param #   \n",
      "=================================================================\n",
      "input_1 (InputLayer)         (None, 3072)              0         \n",
      "_________________________________________________________________\n",
      "dense_1 (Dense)              (None, 512)               1573376   \n",
      "_________________________________________________________________\n",
      "dense_2 (Dense)              (None, 256)               131328    \n",
      "_________________________________________________________________\n",
      "dense_3 (Dense)              (None, 128)               32896     \n",
      "_________________________________________________________________\n",
      "dense_4 (Dense)              (None, 10)                1290      \n",
      "=================================================================\n",
      "Total params: 1,738,890\n",
      "Trainable params: 1,738,890\n",
      "Non-trainable params: 0\n",
      "_________________________________________________________________\n"
     ]
    }
   ],
   "source": [
    "model = build_mlp()\n",
    "# 用 Keras 內建方法檢視模型各層參數量\n",
    "model.summary()\n",
    "\n",
    "optimizer = keras.optimizers.Adam(lr=0.001)\n",
    "model.compile(loss=\"categorical_crossentropy\", metrics=[\"accuracy\"], optimizer=optimizer)"
   ]
  },
  {
   "cell_type": "code",
   "execution_count": 7,
   "metadata": {},
   "outputs": [
    {
     "name": "stdout",
     "output_type": "stream",
     "text": [
      "WARNING:tensorflow:From c:\\python\\miniconda3\\envs\\lsi_env\\lib\\site-packages\\tensorflow\\python\\ops\\math_ops.py:3066: to_int32 (from tensorflow.python.ops.math_ops) is deprecated and will be removed in a future version.\n",
      "Instructions for updating:\n",
      "Use tf.cast instead.\n",
      "Train on 50000 samples, validate on 10000 samples\n",
      "Epoch 1/100\n",
      "50000/50000 [==============================] - 3s 65us/step - loss: 1.9437 - acc: 0.2969 - val_loss: 1.7733 - val_acc: 0.3661\n",
      "Epoch 2/100\n",
      "50000/50000 [==============================] - 2s 35us/step - loss: 1.7090 - acc: 0.3868 - val_loss: 1.6682 - val_acc: 0.4055\n",
      "Epoch 3/100\n",
      "50000/50000 [==============================] - 2s 35us/step - loss: 1.6171 - acc: 0.4218 - val_loss: 1.5657 - val_acc: 0.4395\n",
      "Epoch 4/100\n",
      "50000/50000 [==============================] - 2s 34us/step - loss: 1.5487 - acc: 0.4474 - val_loss: 1.5217 - val_acc: 0.4549\n",
      "Epoch 5/100\n",
      "50000/50000 [==============================] - 2s 34us/step - loss: 1.5015 - acc: 0.4644 - val_loss: 1.5163 - val_acc: 0.4575\n",
      "Epoch 6/100\n",
      "50000/50000 [==============================] - 2s 35us/step - loss: 1.4590 - acc: 0.4792 - val_loss: 1.4969 - val_acc: 0.4659\n",
      "Epoch 7/100\n",
      "50000/50000 [==============================] - 2s 34us/step - loss: 1.4350 - acc: 0.4875 - val_loss: 1.4791 - val_acc: 0.4707\n",
      "Epoch 8/100\n",
      "50000/50000 [==============================] - 2s 34us/step - loss: 1.4056 - acc: 0.4982 - val_loss: 1.4598 - val_acc: 0.4794\n",
      "Epoch 9/100\n",
      "50000/50000 [==============================] - 2s 35us/step - loss: 1.3767 - acc: 0.5092 - val_loss: 1.4975 - val_acc: 0.4721\n",
      "Epoch 10/100\n",
      "50000/50000 [==============================] - 2s 35us/step - loss: 1.3530 - acc: 0.5183 - val_loss: 1.4039 - val_acc: 0.5065\n",
      "Epoch 11/100\n",
      "50000/50000 [==============================] - 2s 35us/step - loss: 1.3269 - acc: 0.5268 - val_loss: 1.3953 - val_acc: 0.5066\n",
      "Epoch 12/100\n",
      "50000/50000 [==============================] - 2s 35us/step - loss: 1.3039 - acc: 0.5372 - val_loss: 1.3947 - val_acc: 0.5114\n",
      "Epoch 13/100\n",
      "50000/50000 [==============================] - 2s 34us/step - loss: 1.2843 - acc: 0.5410 - val_loss: 1.3878 - val_acc: 0.5053\n",
      "Epoch 14/100\n",
      "50000/50000 [==============================] - 2s 35us/step - loss: 1.2589 - acc: 0.5522 - val_loss: 1.3931 - val_acc: 0.5031\n",
      "Epoch 15/100\n",
      "50000/50000 [==============================] - 2s 35us/step - loss: 1.2388 - acc: 0.5588 - val_loss: 1.4553 - val_acc: 0.4958\n",
      "Epoch 16/100\n",
      "50000/50000 [==============================] - 2s 35us/step - loss: 1.2099 - acc: 0.5698 - val_loss: 1.3738 - val_acc: 0.5179\n",
      "Epoch 17/100\n",
      "50000/50000 [==============================] - 2s 35us/step - loss: 1.2031 - acc: 0.5719 - val_loss: 1.4167 - val_acc: 0.4975\n",
      "Epoch 18/100\n",
      "50000/50000 [==============================] - 2s 35us/step - loss: 1.1835 - acc: 0.5757 - val_loss: 1.3743 - val_acc: 0.5168\n",
      "Epoch 19/100\n",
      "50000/50000 [==============================] - 2s 35us/step - loss: 1.1610 - acc: 0.5877 - val_loss: 1.3649 - val_acc: 0.5187\n",
      "Epoch 20/100\n",
      "50000/50000 [==============================] - 2s 35us/step - loss: 1.1390 - acc: 0.5931 - val_loss: 1.3942 - val_acc: 0.5074\n",
      "Epoch 21/100\n",
      "50000/50000 [==============================] - 2s 35us/step - loss: 1.1254 - acc: 0.5966 - val_loss: 1.3659 - val_acc: 0.5240\n",
      "Epoch 22/100\n",
      "50000/50000 [==============================] - 2s 35us/step - loss: 1.1035 - acc: 0.6047 - val_loss: 1.3717 - val_acc: 0.5193\n",
      "Epoch 23/100\n",
      "50000/50000 [==============================] - 2s 35us/step - loss: 1.0876 - acc: 0.6111 - val_loss: 1.3829 - val_acc: 0.5183\n",
      "Epoch 24/100\n",
      "50000/50000 [==============================] - 2s 35us/step - loss: 1.0724 - acc: 0.6164 - val_loss: 1.3806 - val_acc: 0.5279\n",
      "Epoch 25/100\n",
      "50000/50000 [==============================] - 2s 35us/step - loss: 1.0455 - acc: 0.6240 - val_loss: 1.3868 - val_acc: 0.5259\n",
      "Epoch 26/100\n",
      "50000/50000 [==============================] - 2s 35us/step - loss: 1.0257 - acc: 0.6346 - val_loss: 1.3574 - val_acc: 0.5332\n",
      "Epoch 27/100\n",
      "50000/50000 [==============================] - 2s 35us/step - loss: 1.0111 - acc: 0.6409 - val_loss: 1.4016 - val_acc: 0.5273\n",
      "Epoch 28/100\n",
      "50000/50000 [==============================] - 2s 35us/step - loss: 1.0038 - acc: 0.6411 - val_loss: 1.4268 - val_acc: 0.5170\n",
      "Epoch 29/100\n",
      "50000/50000 [==============================] - 2s 35us/step - loss: 0.9756 - acc: 0.6513 - val_loss: 1.4437 - val_acc: 0.5197\n",
      "Epoch 30/100\n",
      "50000/50000 [==============================] - 2s 35us/step - loss: 0.9624 - acc: 0.6566 - val_loss: 1.4093 - val_acc: 0.5271\n",
      "Epoch 31/100\n",
      "50000/50000 [==============================] - 2s 35us/step - loss: 0.9505 - acc: 0.6610 - val_loss: 1.4109 - val_acc: 0.5303\n",
      "Epoch 32/100\n",
      "50000/50000 [==============================] - 2s 36us/step - loss: 0.9226 - acc: 0.6682 - val_loss: 1.4546 - val_acc: 0.5288\n",
      "Epoch 33/100\n",
      "50000/50000 [==============================] - 2s 35us/step - loss: 0.9091 - acc: 0.6744 - val_loss: 1.4858 - val_acc: 0.5216\n",
      "Epoch 34/100\n",
      "50000/50000 [==============================] - 2s 36us/step - loss: 0.9021 - acc: 0.6777 - val_loss: 1.4837 - val_acc: 0.5270\n",
      "Epoch 35/100\n",
      "50000/50000 [==============================] - 2s 35us/step - loss: 0.8794 - acc: 0.6837 - val_loss: 1.4740 - val_acc: 0.5260\n",
      "Epoch 36/100\n",
      "50000/50000 [==============================] - 2s 35us/step - loss: 0.8634 - acc: 0.6909 - val_loss: 1.5077 - val_acc: 0.5229\n",
      "Epoch 37/100\n",
      "50000/50000 [==============================] - 2s 35us/step - loss: 0.8488 - acc: 0.6970 - val_loss: 1.5397 - val_acc: 0.5196\n",
      "Epoch 38/100\n",
      "50000/50000 [==============================] - 2s 36us/step - loss: 0.8411 - acc: 0.6995 - val_loss: 1.5162 - val_acc: 0.5268\n",
      "Epoch 39/100\n",
      "50000/50000 [==============================] - 2s 36us/step - loss: 0.8222 - acc: 0.7055 - val_loss: 1.5583 - val_acc: 0.5114\n",
      "Epoch 40/100\n",
      "50000/50000 [==============================] - 2s 35us/step - loss: 0.8070 - acc: 0.7108 - val_loss: 1.5425 - val_acc: 0.5269\n",
      "Epoch 41/100\n",
      "50000/50000 [==============================] - 2s 35us/step - loss: 0.7985 - acc: 0.7118 - val_loss: 1.5462 - val_acc: 0.5239\n",
      "Epoch 42/100\n",
      "50000/50000 [==============================] - 2s 35us/step - loss: 0.7677 - acc: 0.7245 - val_loss: 1.6004 - val_acc: 0.5222\n",
      "Epoch 43/100\n",
      "50000/50000 [==============================] - 2s 35us/step - loss: 0.7578 - acc: 0.7276 - val_loss: 1.6045 - val_acc: 0.5262\n",
      "Epoch 44/100\n",
      "50000/50000 [==============================] - 2s 35us/step - loss: 0.7472 - acc: 0.7307 - val_loss: 1.6345 - val_acc: 0.5208\n",
      "Epoch 45/100\n",
      "50000/50000 [==============================] - 2s 35us/step - loss: 0.7181 - acc: 0.7427 - val_loss: 1.6644 - val_acc: 0.5099\n",
      "Epoch 46/100\n",
      "50000/50000 [==============================] - 2s 34us/step - loss: 0.7135 - acc: 0.7436 - val_loss: 1.6431 - val_acc: 0.5148\n",
      "Epoch 47/100\n",
      "50000/50000 [==============================] - 2s 35us/step - loss: 0.7048 - acc: 0.7461 - val_loss: 1.6918 - val_acc: 0.5168\n",
      "Epoch 48/100\n",
      "50000/50000 [==============================] - 2s 35us/step - loss: 0.6826 - acc: 0.7551 - val_loss: 1.6942 - val_acc: 0.5144\n",
      "Epoch 49/100\n",
      "50000/50000 [==============================] - 2s 35us/step - loss: 0.6822 - acc: 0.7555 - val_loss: 1.7755 - val_acc: 0.5138\n",
      "Epoch 50/100\n",
      "50000/50000 [==============================] - 2s 35us/step - loss: 0.6662 - acc: 0.7609 - val_loss: 1.7482 - val_acc: 0.5221\n",
      "Epoch 51/100\n",
      "50000/50000 [==============================] - 2s 35us/step - loss: 0.6476 - acc: 0.7669 - val_loss: 1.7426 - val_acc: 0.5212\n",
      "Epoch 52/100\n",
      "50000/50000 [==============================] - 2s 34us/step - loss: 0.6433 - acc: 0.7679 - val_loss: 1.8152 - val_acc: 0.5161\n",
      "Epoch 53/100\n",
      "50000/50000 [==============================] - 2s 35us/step - loss: 0.6320 - acc: 0.7739 - val_loss: 1.8176 - val_acc: 0.5097\n",
      "Epoch 54/100\n",
      "50000/50000 [==============================] - 2s 35us/step - loss: 0.6184 - acc: 0.7783 - val_loss: 1.8263 - val_acc: 0.5204\n",
      "Epoch 55/100\n",
      "50000/50000 [==============================] - 2s 34us/step - loss: 0.6145 - acc: 0.7805 - val_loss: 1.8053 - val_acc: 0.5113\n",
      "Epoch 56/100\n",
      "50000/50000 [==============================] - 2s 34us/step - loss: 0.5901 - acc: 0.7862 - val_loss: 1.9327 - val_acc: 0.4956\n",
      "Epoch 57/100\n",
      "50000/50000 [==============================] - 2s 34us/step - loss: 0.5816 - acc: 0.7914 - val_loss: 1.8463 - val_acc: 0.5186\n"
     ]
    },
    {
     "name": "stdout",
     "output_type": "stream",
     "text": [
      "Epoch 58/100\n",
      "50000/50000 [==============================] - 2s 34us/step - loss: 0.5963 - acc: 0.7850 - val_loss: 1.8908 - val_acc: 0.5196\n",
      "Epoch 59/100\n",
      "50000/50000 [==============================] - 2s 34us/step - loss: 0.5633 - acc: 0.7977 - val_loss: 1.9332 - val_acc: 0.5131\n",
      "Epoch 60/100\n",
      "50000/50000 [==============================] - 2s 35us/step - loss: 0.5531 - acc: 0.8015 - val_loss: 1.9499 - val_acc: 0.5100\n",
      "Epoch 61/100\n",
      "50000/50000 [==============================] - 2s 34us/step - loss: 0.5426 - acc: 0.8041 - val_loss: 2.0012 - val_acc: 0.5148\n",
      "Epoch 62/100\n",
      "50000/50000 [==============================] - 2s 34us/step - loss: 0.5496 - acc: 0.8024 - val_loss: 2.0782 - val_acc: 0.5091\n",
      "Epoch 63/100\n",
      "50000/50000 [==============================] - 2s 34us/step - loss: 0.5200 - acc: 0.8147 - val_loss: 2.0488 - val_acc: 0.5178\n",
      "Epoch 64/100\n",
      "50000/50000 [==============================] - 2s 34us/step - loss: 0.5055 - acc: 0.8177 - val_loss: 2.0651 - val_acc: 0.5127\n",
      "Epoch 65/100\n",
      "50000/50000 [==============================] - 2s 34us/step - loss: 0.5102 - acc: 0.8176 - val_loss: 2.0692 - val_acc: 0.5138\n",
      "Epoch 66/100\n",
      "50000/50000 [==============================] - 2s 34us/step - loss: 0.4984 - acc: 0.8198 - val_loss: 2.1880 - val_acc: 0.5030\n",
      "Epoch 67/100\n",
      "50000/50000 [==============================] - 2s 34us/step - loss: 0.5068 - acc: 0.8184 - val_loss: 2.0798 - val_acc: 0.5094\n",
      "Epoch 68/100\n",
      "50000/50000 [==============================] - 2s 34us/step - loss: 0.4833 - acc: 0.8258 - val_loss: 2.2489 - val_acc: 0.5051\n",
      "Epoch 69/100\n",
      "50000/50000 [==============================] - 2s 34us/step - loss: 0.4891 - acc: 0.8236 - val_loss: 2.2493 - val_acc: 0.5088\n",
      "Epoch 70/100\n",
      "50000/50000 [==============================] - 2s 34us/step - loss: 0.4684 - acc: 0.8313 - val_loss: 2.2370 - val_acc: 0.5031\n",
      "Epoch 71/100\n",
      "50000/50000 [==============================] - 2s 34us/step - loss: 0.4527 - acc: 0.8369 - val_loss: 2.2481 - val_acc: 0.5082\n",
      "Epoch 72/100\n",
      "50000/50000 [==============================] - 2s 35us/step - loss: 0.4483 - acc: 0.8391 - val_loss: 2.2564 - val_acc: 0.5119\n",
      "Epoch 73/100\n",
      "50000/50000 [==============================] - 2s 35us/step - loss: 0.4512 - acc: 0.8365 - val_loss: 2.3640 - val_acc: 0.5023\n",
      "Epoch 74/100\n",
      "50000/50000 [==============================] - 2s 34us/step - loss: 0.4246 - acc: 0.8476 - val_loss: 2.3638 - val_acc: 0.5063\n",
      "Epoch 75/100\n",
      "50000/50000 [==============================] - 2s 35us/step - loss: 0.4421 - acc: 0.8389 - val_loss: 2.3568 - val_acc: 0.5069\n",
      "Epoch 76/100\n",
      "50000/50000 [==============================] - 2s 35us/step - loss: 0.4410 - acc: 0.8427 - val_loss: 2.3923 - val_acc: 0.5010\n",
      "Epoch 77/100\n",
      "50000/50000 [==============================] - 2s 35us/step - loss: 0.4201 - acc: 0.8483 - val_loss: 2.3769 - val_acc: 0.5095\n",
      "Epoch 78/100\n",
      "50000/50000 [==============================] - 2s 34us/step - loss: 0.4205 - acc: 0.8485 - val_loss: 2.4204 - val_acc: 0.4987\n",
      "Epoch 79/100\n",
      "50000/50000 [==============================] - 2s 34us/step - loss: 0.4023 - acc: 0.8572 - val_loss: 2.4510 - val_acc: 0.5037\n",
      "Epoch 80/100\n",
      "50000/50000 [==============================] - 2s 35us/step - loss: 0.4054 - acc: 0.8541 - val_loss: 2.4848 - val_acc: 0.4989\n",
      "Epoch 81/100\n",
      "50000/50000 [==============================] - 2s 35us/step - loss: 0.4012 - acc: 0.8555 - val_loss: 2.5221 - val_acc: 0.5011\n",
      "Epoch 82/100\n",
      "50000/50000 [==============================] - 2s 35us/step - loss: 0.3837 - acc: 0.8611 - val_loss: 2.5386 - val_acc: 0.4967\n",
      "Epoch 83/100\n",
      "50000/50000 [==============================] - 2s 35us/step - loss: 0.3693 - acc: 0.8674 - val_loss: 2.5575 - val_acc: 0.5041\n",
      "Epoch 84/100\n",
      "50000/50000 [==============================] - 2s 35us/step - loss: 0.3684 - acc: 0.8681 - val_loss: 2.6268 - val_acc: 0.5004\n",
      "Epoch 85/100\n",
      "50000/50000 [==============================] - 2s 35us/step - loss: 0.3841 - acc: 0.8629 - val_loss: 2.6448 - val_acc: 0.4952\n",
      "Epoch 86/100\n",
      "50000/50000 [==============================] - 2s 35us/step - loss: 0.3801 - acc: 0.8612 - val_loss: 2.6637 - val_acc: 0.4918\n",
      "Epoch 87/100\n",
      "50000/50000 [==============================] - 2s 34us/step - loss: 0.3641 - acc: 0.8682 - val_loss: 2.6792 - val_acc: 0.4994\n",
      "Epoch 88/100\n",
      "50000/50000 [==============================] - 2s 35us/step - loss: 0.3508 - acc: 0.8733 - val_loss: 2.6580 - val_acc: 0.4894\n",
      "Epoch 89/100\n",
      "50000/50000 [==============================] - 2s 34us/step - loss: 0.3614 - acc: 0.8689 - val_loss: 2.6733 - val_acc: 0.5040\n",
      "Epoch 90/100\n",
      "50000/50000 [==============================] - 2s 35us/step - loss: 0.3470 - acc: 0.8746 - val_loss: 2.7239 - val_acc: 0.5001\n",
      "Epoch 91/100\n",
      "50000/50000 [==============================] - 2s 35us/step - loss: 0.3434 - acc: 0.8769 - val_loss: 2.7514 - val_acc: 0.5025\n",
      "Epoch 92/100\n",
      "50000/50000 [==============================] - 2s 35us/step - loss: 0.3297 - acc: 0.8821 - val_loss: 2.8399 - val_acc: 0.4987\n",
      "Epoch 93/100\n",
      "50000/50000 [==============================] - 2s 35us/step - loss: 0.3448 - acc: 0.8739 - val_loss: 2.8115 - val_acc: 0.5011\n",
      "Epoch 94/100\n",
      "50000/50000 [==============================] - 2s 35us/step - loss: 0.3079 - acc: 0.8899 - val_loss: 2.8595 - val_acc: 0.4988\n",
      "Epoch 95/100\n",
      "50000/50000 [==============================] - 2s 35us/step - loss: 0.3246 - acc: 0.8824 - val_loss: 2.8682 - val_acc: 0.4984\n",
      "Epoch 96/100\n",
      "50000/50000 [==============================] - 2s 34us/step - loss: 0.3220 - acc: 0.8834 - val_loss: 2.9240 - val_acc: 0.4958\n",
      "Epoch 97/100\n",
      "50000/50000 [==============================] - 2s 35us/step - loss: 0.3372 - acc: 0.8781 - val_loss: 2.9798 - val_acc: 0.4856\n",
      "Epoch 98/100\n",
      "50000/50000 [==============================] - 2s 35us/step - loss: 0.3297 - acc: 0.8806 - val_loss: 2.9668 - val_acc: 0.4986\n",
      "Epoch 99/100\n",
      "50000/50000 [==============================] - 2s 35us/step - loss: 0.3219 - acc: 0.8828 - val_loss: 2.8862 - val_acc: 0.4987\n",
      "Epoch 100/100\n",
      "50000/50000 [==============================] - 2s 35us/step - loss: 0.3031 - acc: 0.8900 - val_loss: 2.9606 - val_acc: 0.4982\n"
     ]
    },
    {
     "data": {
      "text/plain": [
       "<keras.callbacks.History at 0x205abd3d3c8>"
      ]
     },
     "execution_count": 7,
     "metadata": {},
     "output_type": "execute_result"
    }
   ],
   "source": [
    "# 訓練模型並檢視驗證集的結果\n",
    "model.fit(x_train, y_train, \n",
    "          epochs=100, \n",
    "          batch_size=256, \n",
    "          validation_data=(x_test, y_test), \n",
    "          shuffle=True)"
   ]
  },
  {
   "cell_type": "code",
   "execution_count": 9,
   "metadata": {},
   "outputs": [
    {
     "data": {
      "image/png": "[encoded data removed]",
      "text/plain": [
       "<Figure size 432x288 with 1 Axes>"
      ]
     },
     "metadata": {
      "needs_background": "light"
     },
     "output_type": "display_data"
    },
    {
     "data": {
      "image/png": "[encoded data removed]",
      "text/plain": [
       "<Figure size 432x288 with 1 Axes>"
      ]
     },
     "metadata": {
      "needs_background": "light"
     },
     "output_type": "display_data"
    }
   ],
   "source": [
    "# 以視覺畫方式檢視訓練過程\n",
    "import matplotlib.pyplot as plt\n",
    "%matplotlib inline\n",
    "train_loss = model.history.history[\"loss\"]\n",
    "valid_loss = model.history.history[\"val_loss\"]\n",
    "\n",
    "train_acc = model.history.history[\"acc\"]\n",
    "valid_acc = model.history.history[\"val_acc\"]\n",
    "\n",
    "plt.plot(range(len(train_loss)), train_loss, label=\"train loss\")\n",
    "plt.plot(range(len(valid_loss)), valid_loss, label=\"valid loss\")\n",
    "plt.legend()\n",
    "plt.title(\"Loss\")\n",
    "plt.show()\n",
    "\n",
    "plt.plot(range(len(train_acc)), train_acc, label=\"train accuracy\")\n",
    "plt.plot(range(len(valid_acc)), valid_acc, label=\"valid accuracy\")\n",
    "plt.legend()\n",
    "plt.title(\"Accuracy\")\n",
    "plt.show()"
   ]
  },
  {
   "cell_type": "markdown",
   "metadata": {},
   "source": [
    "## 作業\n",
    "1. 請將 Epoch 加到 500 個，並觀察 learning curve 的走勢\n",
    "2. 請將 Optimizer 換成 SGD，並觀察 learning curve 的走勢"
   ]
  }
 ],
 "metadata": {
  "kernelspec": {
   "display_name": "Python 3",
   "language": "python",
   "name": "python3"
  },
  "language_info": {
   "codemirror_mode": {
    "name": "ipython",
    "version": 3
   },
   "file_extension": ".py",
   "mimetype": "text/x-python",
   "name": "python",
   "nbconvert_exporter": "python",
   "pygments_lexer": "ipython3",
   "version": "3.7.3"
  }
 },
 "nbformat": 4,
 "nbformat_minor": 2
}
