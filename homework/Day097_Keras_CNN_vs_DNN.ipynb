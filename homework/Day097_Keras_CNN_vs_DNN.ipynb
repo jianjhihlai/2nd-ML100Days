{
 "cells": [
  {
   "cell_type": "code",
   "execution_count": 13,
   "metadata": {},
   "outputs": [],
   "source": [
    "import keras\n",
    "from keras.datasets import cifar10\n",
    "from keras.preprocessing.image import ImageDataGenerator\n",
    "from keras.models import Sequential\n",
    "from keras.layers import Dense, Dropout, Activation, Flatten\n",
    "from keras.layers import Conv2D, MaxPooling2D\n",
    "from keras.optimizers import RMSprop, Adam\n",
    "import os"
   ]
  },
  {
   "cell_type": "code",
   "execution_count": 14,
   "metadata": {},
   "outputs": [
    {
     "name": "stdout",
     "output_type": "stream",
     "text": [
      "x_train shape: (50000, 32, 32, 3)\n",
      "50000 train samples\n",
      "10000 test samples\n"
     ]
    }
   ],
   "source": [
    "batch_size = 128 # batch 的大小，如果出現 OOM error，請降低這個值\n",
    "num_classes = 10 # 類別的數量，Cifar 10 共有 10 個類別\n",
    "epochs = 20 # 訓練的 epochs 數量\n",
    "\n",
    "# 讀取資料並檢視\n",
    "(x_train, y_train), (x_test, y_test) = cifar10.load_data()\n",
    "print('x_train shape:', x_train.shape)\n",
    "print(x_train.shape[0], 'train samples')\n",
    "print(x_test.shape[0], 'test samples')\n",
    "\n",
    "# 對 label 進行 one-hot encoding (y_trian 原本是純數字)\n",
    "y_train = keras.utils.to_categorical(y_train, num_classes)\n",
    "y_test = keras.utils.to_categorical(y_test, num_classes)"
   ]
  },
  {
   "cell_type": "markdown",
   "metadata": {},
   "source": [
    "## 首先我們使用一般的 DNN (MLP) 來訓練\n",
    "由於 DNN 只能輸入一維的資料，我們要先將影像進行攤平，若 (50000, 32, 32, 3) 的影像，攤平後會變成 (50000, 32*32*3) = (50000, 3072)"
   ]
  },
  {
   "cell_type": "code",
   "execution_count": 15,
   "metadata": {},
   "outputs": [
    {
     "name": "stdout",
     "output_type": "stream",
     "text": [
      "50000 train samples\n",
      "10000 test samples\n"
     ]
    }
   ],
   "source": [
    "# 將資料攤平成一維資料\n",
    "x_train = x_train.reshape(50000, 3072) \n",
    "x_test = x_test.reshape(10000, 3072)\n",
    "\n",
    "# 將資料變為 float32 並標準化\n",
    "x_train = x_train.astype('float32')\n",
    "x_test = x_test.astype('float32')\n",
    "x_train /= 255\n",
    "x_test /= 255\n",
    "print(x_train.shape[0], 'train samples')\n",
    "print(x_test.shape[0], 'test samples')"
   ]
  },
  {
   "cell_type": "code",
   "execution_count": 16,
   "metadata": {},
   "outputs": [
    {
     "name": "stdout",
     "output_type": "stream",
     "text": [
      "_________________________________________________________________\n",
      "Layer (type)                 Output Shape              Param #   \n",
      "=================================================================\n",
      "dense_11 (Dense)             (None, 512)               1573376   \n",
      "_________________________________________________________________\n",
      "dropout_11 (Dropout)         (None, 512)               0         \n",
      "_________________________________________________________________\n",
      "dense_12 (Dense)             (None, 512)               262656    \n",
      "_________________________________________________________________\n",
      "dropout_12 (Dropout)         (None, 512)               0         \n",
      "_________________________________________________________________\n",
      "dense_13 (Dense)             (None, 10)                5130      \n",
      "=================================================================\n",
      "Total params: 1,841,162\n",
      "Trainable params: 1,841,162\n",
      "Non-trainable params: 0\n",
      "_________________________________________________________________\n",
      "Train on 50000 samples, validate on 10000 samples\n",
      "Epoch 1/20\n",
      "50000/50000 [==============================] - 2s 42us/step - loss: 2.1787 - acc: 0.2517 - val_loss: 1.8343 - val_acc: 0.3227\n",
      "Epoch 2/20\n",
      "50000/50000 [==============================] - 2s 32us/step - loss: 1.8538 - acc: 0.3321 - val_loss: 1.7974 - val_acc: 0.3486\n",
      "Epoch 3/20\n",
      "50000/50000 [==============================] - 2s 32us/step - loss: 1.7811 - acc: 0.3605 - val_loss: 1.7455 - val_acc: 0.3865\n",
      "Epoch 4/20\n",
      "50000/50000 [==============================] - 2s 32us/step - loss: 1.7283 - acc: 0.3811 - val_loss: 1.6951 - val_acc: 0.4022\n",
      "Epoch 5/20\n",
      "50000/50000 [==============================] - 2s 32us/step - loss: 1.6966 - acc: 0.3912 - val_loss: 1.6988 - val_acc: 0.4070\n",
      "Epoch 6/20\n",
      "50000/50000 [==============================] - 2s 32us/step - loss: 1.6675 - acc: 0.4051 - val_loss: 1.5833 - val_acc: 0.4438\n",
      "Epoch 7/20\n",
      "50000/50000 [==============================] - 2s 33us/step - loss: 1.6392 - acc: 0.4142 - val_loss: 1.6496 - val_acc: 0.4242\n",
      "Epoch 8/20\n",
      "50000/50000 [==============================] - 2s 32us/step - loss: 1.6247 - acc: 0.4196 - val_loss: 1.6360 - val_acc: 0.4140\n",
      "Epoch 9/20\n",
      "50000/50000 [==============================] - 2s 32us/step - loss: 1.6046 - acc: 0.4271 - val_loss: 1.5514 - val_acc: 0.4471\n",
      "Epoch 10/20\n",
      "50000/50000 [==============================] - 2s 32us/step - loss: 1.5926 - acc: 0.4323 - val_loss: 1.5945 - val_acc: 0.4230\n",
      "Epoch 11/20\n",
      "50000/50000 [==============================] - 2s 32us/step - loss: 1.5806 - acc: 0.4333 - val_loss: 1.5585 - val_acc: 0.4442\n",
      "Epoch 12/20\n",
      "50000/50000 [==============================] - 2s 32us/step - loss: 1.5684 - acc: 0.4423 - val_loss: 1.5611 - val_acc: 0.4380\n",
      "Epoch 13/20\n",
      "50000/50000 [==============================] - 2s 33us/step - loss: 1.5575 - acc: 0.4425 - val_loss: 1.5364 - val_acc: 0.4722\n",
      "Epoch 14/20\n",
      "50000/50000 [==============================] - 2s 32us/step - loss: 1.5495 - acc: 0.4496 - val_loss: 1.5081 - val_acc: 0.4736\n",
      "Epoch 15/20\n",
      "50000/50000 [==============================] - 2s 33us/step - loss: 1.5410 - acc: 0.4493 - val_loss: 1.5502 - val_acc: 0.4593\n",
      "Epoch 16/20\n",
      "50000/50000 [==============================] - 2s 32us/step - loss: 1.5307 - acc: 0.4525 - val_loss: 1.6105 - val_acc: 0.4391\n",
      "Epoch 17/20\n",
      "50000/50000 [==============================] - 2s 32us/step - loss: 1.5315 - acc: 0.4558 - val_loss: 1.5272 - val_acc: 0.4563\n",
      "Epoch 18/20\n",
      "50000/50000 [==============================] - 2s 32us/step - loss: 1.5216 - acc: 0.4579 - val_loss: 1.4718 - val_acc: 0.4758\n",
      "Epoch 19/20\n",
      "50000/50000 [==============================] - 2s 32us/step - loss: 1.5125 - acc: 0.4624 - val_loss: 1.4947 - val_acc: 0.4707\n",
      "Epoch 20/20\n",
      "50000/50000 [==============================] - 2s 32us/step - loss: 1.5051 - acc: 0.4640 - val_loss: 1.4741 - val_acc: 0.4821\n",
      "Test loss: 1.4740663682937623\n",
      "Test accuracy: 0.4821\n"
     ]
    }
   ],
   "source": [
    "model = Sequential()\n",
    "model.add(Dense(512, activation='relu', input_shape=(3072,)))\n",
    "model.add(Dropout(0.2))\n",
    "model.add(Dense(512, activation='relu'))\n",
    "model.add(Dropout(0.2))\n",
    "model.add(Dense(num_classes, activation='softmax'))\n",
    "\n",
    "model.summary()\n",
    "\n",
    "model.compile(loss='categorical_crossentropy',\n",
    "              optimizer=RMSprop(),\n",
    "              metrics=['accuracy'])\n",
    "\n",
    "history = model.fit(x_train, y_train,\n",
    "                    batch_size=batch_size,\n",
    "                    epochs=epochs,\n",
    "                    verbose=1,\n",
    "                    validation_data=(x_test, y_test))\n",
    "score = model.evaluate(x_test, y_test, verbose=0)\n",
    "print('Test loss:', score[0])\n",
    "print('Test accuracy:', score[1])"
   ]
  },
  {
   "cell_type": "markdown",
   "metadata": {},
   "source": [
    "## 接下來我們使用 CNN 來訓練神經網路\n",
    "CNN 的原理非常適合處理影像類的資料，就讓我們來看看，同樣的訓練條件，CNN 是否顯著優於 DNN 呢?"
   ]
  },
  {
   "cell_type": "code",
   "execution_count": 17,
   "metadata": {},
   "outputs": [
    {
     "name": "stdout",
     "output_type": "stream",
     "text": [
      "x_train shape: (50000, 32, 32, 3)\n",
      "50000 train samples\n",
      "10000 test samples\n"
     ]
    }
   ],
   "source": [
    "(x_train, y_train), (x_test, y_test) = cifar10.load_data()\n",
    "print('x_train shape:', x_train.shape)\n",
    "print(x_train.shape[0], 'train samples')\n",
    "print(x_test.shape[0], 'test samples')\n",
    "x_train = x_train.astype('float32')\n",
    "x_test = x_test.astype('float32')\n",
    "x_train /= 255\n",
    "x_test /= 255\n",
    "\n",
    "# Convert class vectors to binary class matrices.\n",
    "y_train = keras.utils.to_categorical(y_train, num_classes)\n",
    "y_test = keras.utils.to_categorical(y_test, num_classes)"
   ]
  },
  {
   "cell_type": "code",
   "execution_count": 18,
   "metadata": {},
   "outputs": [
    {
     "name": "stdout",
     "output_type": "stream",
     "text": [
      "_________________________________________________________________\n",
      "Layer (type)                 Output Shape              Param #   \n",
      "=================================================================\n",
      "conv2d_9 (Conv2D)            (None, 32, 32, 32)        896       \n",
      "_________________________________________________________________\n",
      "activation_13 (Activation)   (None, 32, 32, 32)        0         \n",
      "_________________________________________________________________\n",
      "conv2d_10 (Conv2D)           (None, 30, 30, 32)        9248      \n",
      "_________________________________________________________________\n",
      "activation_14 (Activation)   (None, 30, 30, 32)        0         \n",
      "_________________________________________________________________\n",
      "max_pooling2d_5 (MaxPooling2 (None, 15, 15, 32)        0         \n",
      "_________________________________________________________________\n",
      "dropout_13 (Dropout)         (None, 15, 15, 32)        0         \n",
      "_________________________________________________________________\n",
      "conv2d_11 (Conv2D)           (None, 15, 15, 64)        18496     \n",
      "_________________________________________________________________\n",
      "activation_15 (Activation)   (None, 15, 15, 64)        0         \n",
      "_________________________________________________________________\n",
      "conv2d_12 (Conv2D)           (None, 13, 13, 64)        36928     \n",
      "_________________________________________________________________\n",
      "activation_16 (Activation)   (None, 13, 13, 64)        0         \n",
      "_________________________________________________________________\n",
      "max_pooling2d_6 (MaxPooling2 (None, 6, 6, 64)          0         \n",
      "_________________________________________________________________\n",
      "dropout_14 (Dropout)         (None, 6, 6, 64)          0         \n",
      "_________________________________________________________________\n",
      "flatten_3 (Flatten)          (None, 2304)              0         \n",
      "_________________________________________________________________\n",
      "dense_14 (Dense)             (None, 512)               1180160   \n",
      "_________________________________________________________________\n",
      "activation_17 (Activation)   (None, 512)               0         \n",
      "_________________________________________________________________\n",
      "dropout_15 (Dropout)         (None, 512)               0         \n",
      "_________________________________________________________________\n",
      "dense_15 (Dense)             (None, 10)                5130      \n",
      "_________________________________________________________________\n",
      "activation_18 (Activation)   (None, 10)                0         \n",
      "=================================================================\n",
      "Total params: 1,250,858\n",
      "Trainable params: 1,250,858\n",
      "Non-trainable params: 0\n",
      "_________________________________________________________________\n",
      "Train on 50000 samples, validate on 10000 samples\n",
      "Epoch 1/20\n",
      "50000/50000 [==============================] - 4s 87us/step - loss: 1.7645 - acc: 0.3590 - val_loss: 1.4222 - val_acc: 0.4993\n",
      "Epoch 2/20\n",
      "50000/50000 [==============================] - 4s 75us/step - loss: 1.3446 - acc: 0.5206 - val_loss: 1.1286 - val_acc: 0.5962\n",
      "Epoch 3/20\n",
      "50000/50000 [==============================] - 4s 75us/step - loss: 1.1337 - acc: 0.6016 - val_loss: 0.9730 - val_acc: 0.6595\n",
      "Epoch 4/20\n",
      "50000/50000 [==============================] - 4s 74us/step - loss: 0.9979 - acc: 0.6511 - val_loss: 0.9264 - val_acc: 0.6787\n",
      "Epoch 5/20\n",
      "50000/50000 [==============================] - 4s 74us/step - loss: 0.9009 - acc: 0.6853 - val_loss: 0.8555 - val_acc: 0.7077\n",
      "Epoch 6/20\n",
      "50000/50000 [==============================] - 4s 74us/step - loss: 0.8309 - acc: 0.7116 - val_loss: 0.8074 - val_acc: 0.7237\n",
      "Epoch 7/20\n",
      "50000/50000 [==============================] - 4s 74us/step - loss: 0.7687 - acc: 0.7333 - val_loss: 0.7348 - val_acc: 0.7458\n",
      "Epoch 8/20\n",
      "50000/50000 [==============================] - 4s 74us/step - loss: 0.7276 - acc: 0.7478 - val_loss: 0.7417 - val_acc: 0.7497\n",
      "Epoch 9/20\n",
      "50000/50000 [==============================] - 4s 74us/step - loss: 0.6925 - acc: 0.7617 - val_loss: 0.7075 - val_acc: 0.7593\n",
      "Epoch 10/20\n",
      "50000/50000 [==============================] - 4s 74us/step - loss: 0.6586 - acc: 0.7723 - val_loss: 0.7383 - val_acc: 0.7491\n",
      "Epoch 11/20\n",
      "50000/50000 [==============================] - 4s 74us/step - loss: 0.6391 - acc: 0.7787 - val_loss: 0.7658 - val_acc: 0.7443\n",
      "Epoch 12/20\n",
      "50000/50000 [==============================] - 4s 75us/step - loss: 0.6158 - acc: 0.7878 - val_loss: 0.7022 - val_acc: 0.7711\n",
      "Epoch 13/20\n",
      "50000/50000 [==============================] - 4s 74us/step - loss: 0.6084 - acc: 0.7919 - val_loss: 0.6927 - val_acc: 0.7660\n",
      "Epoch 14/20\n",
      "50000/50000 [==============================] - 4s 74us/step - loss: 0.5919 - acc: 0.7967 - val_loss: 0.7396 - val_acc: 0.7660\n",
      "Epoch 15/20\n",
      "50000/50000 [==============================] - 4s 75us/step - loss: 0.6014 - acc: 0.7949 - val_loss: 0.6580 - val_acc: 0.7862\n",
      "Epoch 16/20\n",
      "50000/50000 [==============================] - 4s 74us/step - loss: 0.5887 - acc: 0.8004 - val_loss: 0.8035 - val_acc: 0.7583\n",
      "Epoch 17/20\n",
      "50000/50000 [==============================] - 4s 74us/step - loss: 0.5948 - acc: 0.8006 - val_loss: 0.6766 - val_acc: 0.7794\n",
      "Epoch 18/20\n",
      "50000/50000 [==============================] - 4s 74us/step - loss: 0.5915 - acc: 0.8015 - val_loss: 0.6983 - val_acc: 0.7878\n",
      "Epoch 19/20\n",
      "50000/50000 [==============================] - 4s 75us/step - loss: 0.5943 - acc: 0.8042 - val_loss: 0.7031 - val_acc: 0.7913\n",
      "Epoch 20/20\n",
      "50000/50000 [==============================] - 4s 74us/step - loss: 0.5957 - acc: 0.8020 - val_loss: 0.7200 - val_acc: 0.7647\n",
      "Test loss: 0.7199534816741944\n",
      "Test accuracy: 0.7647\n"
     ]
    }
   ],
   "source": [
    "model = Sequential()\n",
    "model.add(Conv2D(32, (3, 3), padding='same',\n",
    "                 input_shape=x_train.shape[1:]))\n",
    "model.add(Activation('relu'))\n",
    "model.add(Conv2D(32, (3, 3)))\n",
    "model.add(Activation('relu'))\n",
    "model.add(MaxPooling2D(pool_size=(2, 2)))\n",
    "model.add(Dropout(0.25))\n",
    "\n",
    "model.add(Conv2D(64, (3, 3), padding='same'))\n",
    "model.add(Activation('relu'))\n",
    "model.add(Conv2D(64, (3, 3)))\n",
    "model.add(Activation('relu'))\n",
    "model.add(MaxPooling2D(pool_size=(2, 2)))\n",
    "model.add(Dropout(0.25))\n",
    "\n",
    "model.add(Flatten())\n",
    "model.add(Dense(512))\n",
    "model.add(Activation('relu'))\n",
    "model.add(Dropout(0.5))\n",
    "model.add(Dense(num_classes))\n",
    "model.add(Activation('softmax'))\n",
    "model.summary()\n",
    "\n",
    "model.compile(loss='categorical_crossentropy',\n",
    "              optimizer=RMSprop(),\n",
    "              metrics=['accuracy'])\n",
    "\n",
    "history = model.fit(x_train, y_train,\n",
    "                    batch_size=batch_size,\n",
    "                    epochs=epochs,\n",
    "                    verbose=1,\n",
    "                    validation_data=(x_test, y_test))\n",
    "score = model.evaluate(x_test, y_test, verbose=0)\n",
    "print('Test loss:', score[0])\n",
    "print('Test accuracy:', score[1])"
   ]
  },
  {
   "cell_type": "markdown",
   "metadata": {},
   "source": [
    "## 同樣運算 10 個 epochs，但 CNN 在 test data 的準確率顯著優於 DNN!"
   ]
  },
  {
   "cell_type": "markdown",
   "metadata": {},
   "source": [
    "## 作業\n",
    "1. 請試著調整各個超參數，並說明那些超參數對於結果有明顯的影響?\n",
    "2. CNN 與 DNN 哪個模型的參數數量比較多? 造成參數的數量不同的原因在哪?"
   ]
  },
  {
   "cell_type": "markdown",
   "metadata": {},
   "source": [
    "1. \n",
    "#### * batch_size為128的結果，DNN正確率為0.4728，CNN正確率為0.7479\n",
    "#### * batch_size為256的結果，DNN為0.4462，CNN為 0.735\n",
    "#### * batch_size為64的結果，DNN為0.4225，CNN為 0.6394\n",
    "#### * batch_size為64的結果，DNN為0.4225，CNN為 0.6394\n",
    "#### * epochs為20的結果，DNN為0.4821，CNN為 0.7647\n",
    "#### 看起來是加大epochs可以增加準確率\n",
    "2.\n",
    "#### CNN的參數量較少，因為CNN在kernal filter中共享參數，而DNN每個單元就有一個參數"
   ]
  }
 ],
 "metadata": {
  "kernelspec": {
   "display_name": "Python 3",
   "language": "python",
   "name": "python3"
  },
  "language_info": {
   "codemirror_mode": {
    "name": "ipython",
    "version": 3
   },
   "file_extension": ".py",
   "mimetype": "text/x-python",
   "name": "python",
   "nbconvert_exporter": "python",
   "pygments_lexer": "ipython3",
   "version": "3.7.3"
  }
 },
 "nbformat": 4,
 "nbformat_minor": 2
}
