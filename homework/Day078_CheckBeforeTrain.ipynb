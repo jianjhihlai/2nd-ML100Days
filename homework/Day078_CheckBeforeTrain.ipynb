{
 "cells": [
  {
   "cell_type": "markdown",
   "metadata": {},
   "source": [
    "## 範例重點\n",
    "### 學習在模型開始前檢查各個環節\n",
    "1. 是否有 GPU 資源\n",
    "2. 將前處理轉為函式，統一處理訓練、驗證與測試集\n",
    "3. 將超參數變數化，易於重複使用函式、模型等"
   ]
  },
  {
   "cell_type": "code",
   "execution_count": null,
   "metadata": {},
   "outputs": [],
   "source": [
    "## 確認硬體資源 (如果你是在 Linux, 若是在 Windows, 請參考 https://blog.csdn.net/idwtwt/article/details/78017565)\n",
    "!nvidia-smi"
   ]
  },
  {
   "cell_type": "code",
   "execution_count": 1,
   "metadata": {},
   "outputs": [
    {
     "name": "stderr",
     "output_type": "stream",
     "text": [
      "Using TensorFlow backend.\n"
     ]
    }
   ],
   "source": [
    "import os\n",
    "import keras\n",
    "\n",
    "# 本範例不需使用 GPU, 將 GPU 設定為 \"無\"\n",
    "os.environ[\"CUDA_VISIBLE_DEVICES\"] = \"0\""
   ]
  },
  {
   "cell_type": "code",
   "execution_count": 2,
   "metadata": {},
   "outputs": [],
   "source": [
    "# 從 Keras 的內建功能中，取得 train 與 test 資料集\n",
    "train, test = keras.datasets.cifar10.load_data()"
   ]
  },
  {
   "cell_type": "code",
   "execution_count": 3,
   "metadata": {},
   "outputs": [],
   "source": [
    "## 資料前處理\n",
    "def preproc_x(x, flatten=True):\n",
    "    x = x / 255.\n",
    "    if flatten:\n",
    "        x = x.reshape((len(x), -1))\n",
    "    return x\n",
    "\n",
    "def preproc_y(y, num_classes=10):\n",
    "    if y.shape[-1] == 1:\n",
    "        y = keras.utils.to_categorical(y, num_classes)\n",
    "    return y    "
   ]
  },
  {
   "cell_type": "code",
   "execution_count": 4,
   "metadata": {},
   "outputs": [],
   "source": [
    "x_train, y_train = train\n",
    "x_test, y_test = test\n",
    "\n",
    "# 資料前處理 - X 標準化\n",
    "x_train = preproc_x(x_train)\n",
    "x_test = preproc_x(x_test)\n",
    "\n",
    "# 資料前處理 -Y 轉成 onehot\n",
    "y_train = preproc_y(y_train)\n",
    "y_test = preproc_y(y_test)"
   ]
  },
  {
   "cell_type": "code",
   "execution_count": 5,
   "metadata": {},
   "outputs": [],
   "source": [
    "def build_mlp(input_shape, output_units=10, num_neurons=[512, 256, 128]):\n",
    "    input_layer = keras.layers.Input(input_shape)\n",
    "    \n",
    "    for i, n_units in enumerate(num_neurons):\n",
    "        if i == 0:\n",
    "            x = keras.layers.Dense(units=n_units, activation=\"relu\", name=\"hidden_layer\"+str(i+1))(input_layer)\n",
    "        else:\n",
    "            x = keras.layers.Dense(units=n_units, activation=\"relu\", name=\"hidden_layer\"+str(i+1))(x)\n",
    "    \n",
    "    out = keras.layers.Dense(units=output_units, activation=\"softmax\", name=\"output\")(x)\n",
    "    \n",
    "    model = keras.models.Model(inputs=[input_layer], outputs=[out])\n",
    "    return model"
   ]
  },
  {
   "cell_type": "code",
   "execution_count": 6,
   "metadata": {},
   "outputs": [
    {
     "name": "stdout",
     "output_type": "stream",
     "text": [
      "WARNING:tensorflow:From c:\\python\\miniconda3\\envs\\lsi_env\\lib\\site-packages\\tensorflow\\python\\framework\\op_def_library.py:263: colocate_with (from tensorflow.python.framework.ops) is deprecated and will be removed in a future version.\n",
      "Instructions for updating:\n",
      "Colocations handled automatically by placer.\n",
      "_________________________________________________________________\n",
      "Layer (type)                 Output Shape              Param #   \n",
      "=================================================================\n",
      "input_1 (InputLayer)         (None, 3072)              0         \n",
      "_________________________________________________________________\n",
      "hidden_layer1 (Dense)        (None, 512)               1573376   \n",
      "_________________________________________________________________\n",
      "hidden_layer2 (Dense)        (None, 256)               131328    \n",
      "_________________________________________________________________\n",
      "hidden_layer3 (Dense)        (None, 128)               32896     \n",
      "_________________________________________________________________\n",
      "output (Dense)               (None, 10)                1290      \n",
      "=================================================================\n",
      "Total params: 1,738,890\n",
      "Trainable params: 1,738,890\n",
      "Non-trainable params: 0\n",
      "_________________________________________________________________\n"
     ]
    }
   ],
   "source": [
    "model = build_mlp(input_shape=x_train.shape[1:])\n",
    "model.summary()"
   ]
  },
  {
   "cell_type": "code",
   "execution_count": 7,
   "metadata": {},
   "outputs": [],
   "source": [
    "## 超參數設定\n",
    "LEARNING_RATE = 0.001\n",
    "EPOCHS = 100\n",
    "BATCH_SIZE = 256"
   ]
  },
  {
   "cell_type": "code",
   "execution_count": 8,
   "metadata": {},
   "outputs": [],
   "source": [
    "optimizer = keras.optimizers.Adam(lr=LEARNING_RATE)\n",
    "model.compile(loss=\"categorical_crossentropy\", metrics=[\"accuracy\"], optimizer=optimizer)"
   ]
  },
  {
   "cell_type": "code",
   "execution_count": 9,
   "metadata": {},
   "outputs": [
    {
     "name": "stdout",
     "output_type": "stream",
     "text": [
      "WARNING:tensorflow:From c:\\python\\miniconda3\\envs\\lsi_env\\lib\\site-packages\\tensorflow\\python\\ops\\math_ops.py:3066: to_int32 (from tensorflow.python.ops.math_ops) is deprecated and will be removed in a future version.\n",
      "Instructions for updating:\n",
      "Use tf.cast instead.\n",
      "Train on 50000 samples, validate on 10000 samples\n",
      "Epoch 1/100\n",
      "50000/50000 [==============================] - 3s 65us/step - loss: 1.9559 - acc: 0.2918 - val_loss: 1.7894 - val_acc: 0.3554\n",
      "Epoch 2/100\n",
      "50000/50000 [==============================] - 2s 35us/step - loss: 1.7277 - acc: 0.3835 - val_loss: 1.7337 - val_acc: 0.3798\n",
      "Epoch 3/100\n",
      "50000/50000 [==============================] - 2s 34us/step - loss: 1.6336 - acc: 0.4196 - val_loss: 1.6338 - val_acc: 0.4195\n",
      "Epoch 4/100\n",
      "50000/50000 [==============================] - 2s 35us/step - loss: 1.5592 - acc: 0.4445 - val_loss: 1.6326 - val_acc: 0.4218\n",
      "Epoch 5/100\n",
      "50000/50000 [==============================] - 2s 34us/step - loss: 1.5206 - acc: 0.4573 - val_loss: 1.5348 - val_acc: 0.4534\n",
      "Epoch 6/100\n",
      "50000/50000 [==============================] - 2s 34us/step - loss: 1.4737 - acc: 0.4753 - val_loss: 1.4798 - val_acc: 0.4746\n",
      "Epoch 7/100\n",
      "50000/50000 [==============================] - 2s 34us/step - loss: 1.4389 - acc: 0.4892 - val_loss: 1.4728 - val_acc: 0.4727\n",
      "Epoch 8/100\n",
      "50000/50000 [==============================] - 2s 34us/step - loss: 1.4034 - acc: 0.5015 - val_loss: 1.4508 - val_acc: 0.4864\n",
      "Epoch 9/100\n",
      "50000/50000 [==============================] - 2s 36us/step - loss: 1.3804 - acc: 0.5072 - val_loss: 1.4228 - val_acc: 0.4973\n",
      "Epoch 10/100\n",
      "50000/50000 [==============================] - 2s 35us/step - loss: 1.3617 - acc: 0.5187 - val_loss: 1.4454 - val_acc: 0.4799\n",
      "Epoch 11/100\n",
      "50000/50000 [==============================] - 2s 35us/step - loss: 1.3331 - acc: 0.5273 - val_loss: 1.4557 - val_acc: 0.4852\n",
      "Epoch 12/100\n",
      "50000/50000 [==============================] - 2s 35us/step - loss: 1.3102 - acc: 0.5328 - val_loss: 1.4302 - val_acc: 0.4997\n",
      "Epoch 13/100\n",
      "50000/50000 [==============================] - 2s 35us/step - loss: 1.2824 - acc: 0.5436 - val_loss: 1.4308 - val_acc: 0.4915\n",
      "Epoch 14/100\n",
      "50000/50000 [==============================] - 2s 35us/step - loss: 1.2747 - acc: 0.5487 - val_loss: 1.3761 - val_acc: 0.5175\n",
      "Epoch 15/100\n",
      "50000/50000 [==============================] - 2s 35us/step - loss: 1.2464 - acc: 0.5564 - val_loss: 1.4331 - val_acc: 0.4975\n",
      "Epoch 16/100\n",
      "50000/50000 [==============================] - 2s 35us/step - loss: 1.2242 - acc: 0.5638 - val_loss: 1.3800 - val_acc: 0.5106\n",
      "Epoch 17/100\n",
      "50000/50000 [==============================] - 2s 35us/step - loss: 1.2032 - acc: 0.5705 - val_loss: 1.3651 - val_acc: 0.5187\n",
      "Epoch 18/100\n",
      "50000/50000 [==============================] - 2s 35us/step - loss: 1.1891 - acc: 0.5777 - val_loss: 1.3931 - val_acc: 0.5092\n",
      "Epoch 19/100\n",
      "50000/50000 [==============================] - 2s 35us/step - loss: 1.1641 - acc: 0.5857 - val_loss: 1.3772 - val_acc: 0.5171\n",
      "Epoch 20/100\n",
      "50000/50000 [==============================] - 2s 34us/step - loss: 1.1468 - acc: 0.5931 - val_loss: 1.4366 - val_acc: 0.4961\n",
      "Epoch 21/100\n",
      "50000/50000 [==============================] - 2s 34us/step - loss: 1.1352 - acc: 0.5959 - val_loss: 1.3694 - val_acc: 0.5252\n",
      "Epoch 22/100\n",
      "50000/50000 [==============================] - 2s 35us/step - loss: 1.1094 - acc: 0.6030 - val_loss: 1.3934 - val_acc: 0.5194\n",
      "Epoch 23/100\n",
      "50000/50000 [==============================] - 2s 36us/step - loss: 1.0907 - acc: 0.6119 - val_loss: 1.3962 - val_acc: 0.5183\n",
      "Epoch 24/100\n",
      "50000/50000 [==============================] - 2s 35us/step - loss: 1.0781 - acc: 0.6166 - val_loss: 1.3747 - val_acc: 0.5291\n",
      "Epoch 25/100\n",
      "50000/50000 [==============================] - 2s 36us/step - loss: 1.0479 - acc: 0.6277 - val_loss: 1.3883 - val_acc: 0.5261\n",
      "Epoch 26/100\n",
      "50000/50000 [==============================] - 2s 35us/step - loss: 1.0328 - acc: 0.6326 - val_loss: 1.3859 - val_acc: 0.5252\n",
      "Epoch 27/100\n",
      "50000/50000 [==============================] - 2s 35us/step - loss: 1.0212 - acc: 0.6359 - val_loss: 1.3791 - val_acc: 0.5271\n",
      "Epoch 28/100\n",
      "50000/50000 [==============================] - 2s 35us/step - loss: 1.0007 - acc: 0.6438 - val_loss: 1.4281 - val_acc: 0.5182\n",
      "Epoch 29/100\n",
      "50000/50000 [==============================] - 2s 35us/step - loss: 0.9867 - acc: 0.6485 - val_loss: 1.3969 - val_acc: 0.5271\n",
      "Epoch 30/100\n",
      "50000/50000 [==============================] - 2s 34us/step - loss: 0.9646 - acc: 0.6585 - val_loss: 1.4374 - val_acc: 0.5248\n",
      "Epoch 31/100\n",
      "50000/50000 [==============================] - 2s 34us/step - loss: 0.9521 - acc: 0.6595 - val_loss: 1.4091 - val_acc: 0.5231\n",
      "Epoch 32/100\n",
      "50000/50000 [==============================] - 2s 34us/step - loss: 0.9322 - acc: 0.6659 - val_loss: 1.4927 - val_acc: 0.5130\n",
      "Epoch 33/100\n",
      "50000/50000 [==============================] - 2s 35us/step - loss: 0.9135 - acc: 0.6737 - val_loss: 1.4368 - val_acc: 0.5323\n",
      "Epoch 34/100\n",
      "50000/50000 [==============================] - 2s 35us/step - loss: 0.9066 - acc: 0.6768 - val_loss: 1.4371 - val_acc: 0.5315\n",
      "Epoch 35/100\n",
      "50000/50000 [==============================] - 2s 35us/step - loss: 0.8847 - acc: 0.6825 - val_loss: 1.4774 - val_acc: 0.5172\n",
      "Epoch 36/100\n",
      "50000/50000 [==============================] - 2s 35us/step - loss: 0.8688 - acc: 0.6911 - val_loss: 1.4857 - val_acc: 0.5227\n",
      "Epoch 37/100\n",
      "50000/50000 [==============================] - 2s 36us/step - loss: 0.8580 - acc: 0.6940 - val_loss: 1.4864 - val_acc: 0.5285\n",
      "Epoch 38/100\n",
      "50000/50000 [==============================] - 2s 34us/step - loss: 0.8424 - acc: 0.6991 - val_loss: 1.4942 - val_acc: 0.5278\n",
      "Epoch 39/100\n",
      "50000/50000 [==============================] - 2s 34us/step - loss: 0.8207 - acc: 0.7064 - val_loss: 1.5274 - val_acc: 0.5267\n",
      "Epoch 40/100\n",
      "50000/50000 [==============================] - 2s 34us/step - loss: 0.8083 - acc: 0.7135 - val_loss: 1.5291 - val_acc: 0.5280\n",
      "Epoch 41/100\n",
      "50000/50000 [==============================] - 2s 34us/step - loss: 0.7912 - acc: 0.7174 - val_loss: 1.5410 - val_acc: 0.5268\n",
      "Epoch 42/100\n",
      "50000/50000 [==============================] - 2s 34us/step - loss: 0.7855 - acc: 0.7204 - val_loss: 1.6038 - val_acc: 0.5144\n",
      "Epoch 43/100\n",
      "50000/50000 [==============================] - 2s 35us/step - loss: 0.7620 - acc: 0.7274 - val_loss: 1.6189 - val_acc: 0.5197\n",
      "Epoch 44/100\n",
      "50000/50000 [==============================] - 2s 35us/step - loss: 0.7501 - acc: 0.7321 - val_loss: 1.5911 - val_acc: 0.5256\n",
      "Epoch 45/100\n",
      "50000/50000 [==============================] - 2s 34us/step - loss: 0.7445 - acc: 0.7335 - val_loss: 1.6427 - val_acc: 0.5215\n",
      "Epoch 46/100\n",
      "50000/50000 [==============================] - 2s 34us/step - loss: 0.7321 - acc: 0.7385 - val_loss: 1.6585 - val_acc: 0.5140\n",
      "Epoch 47/100\n",
      "50000/50000 [==============================] - 2s 34us/step - loss: 0.7102 - acc: 0.7472 - val_loss: 1.6643 - val_acc: 0.5212\n",
      "Epoch 48/100\n",
      "50000/50000 [==============================] - 2s 33us/step - loss: 0.6973 - acc: 0.7510 - val_loss: 1.6999 - val_acc: 0.5221\n",
      "Epoch 49/100\n",
      "50000/50000 [==============================] - 2s 34us/step - loss: 0.6821 - acc: 0.7576 - val_loss: 1.7328 - val_acc: 0.5195\n",
      "Epoch 50/100\n",
      "50000/50000 [==============================] - 2s 35us/step - loss: 0.6686 - acc: 0.7624 - val_loss: 1.7255 - val_acc: 0.5197\n",
      "Epoch 51/100\n",
      "50000/50000 [==============================] - 2s 34us/step - loss: 0.6764 - acc: 0.7568 - val_loss: 1.7600 - val_acc: 0.5176\n",
      "Epoch 52/100\n",
      "50000/50000 [==============================] - 2s 35us/step - loss: 0.6566 - acc: 0.7660 - val_loss: 1.7231 - val_acc: 0.5239\n",
      "Epoch 53/100\n",
      "50000/50000 [==============================] - 2s 34us/step - loss: 0.6503 - acc: 0.7666 - val_loss: 1.7689 - val_acc: 0.5216\n",
      "Epoch 54/100\n",
      "50000/50000 [==============================] - 2s 34us/step - loss: 0.6207 - acc: 0.7788 - val_loss: 1.8333 - val_acc: 0.5211\n",
      "Epoch 55/100\n",
      "50000/50000 [==============================] - 2s 34us/step - loss: 0.6250 - acc: 0.7771 - val_loss: 1.8340 - val_acc: 0.5157\n",
      "Epoch 56/100\n",
      "50000/50000 [==============================] - 2s 34us/step - loss: 0.5974 - acc: 0.7874 - val_loss: 1.8554 - val_acc: 0.5165\n",
      "Epoch 57/100\n",
      "50000/50000 [==============================] - 2s 34us/step - loss: 0.5869 - acc: 0.7915 - val_loss: 1.9206 - val_acc: 0.5103\n"
     ]
    },
    {
     "name": "stdout",
     "output_type": "stream",
     "text": [
      "Epoch 58/100\n",
      "50000/50000 [==============================] - 2s 34us/step - loss: 0.5923 - acc: 0.7889 - val_loss: 1.8495 - val_acc: 0.5094\n",
      "Epoch 59/100\n",
      "50000/50000 [==============================] - 2s 34us/step - loss: 0.5850 - acc: 0.7915 - val_loss: 1.9282 - val_acc: 0.5145\n",
      "Epoch 60/100\n",
      "50000/50000 [==============================] - 2s 34us/step - loss: 0.5580 - acc: 0.8008 - val_loss: 1.8939 - val_acc: 0.5109\n",
      "Epoch 61/100\n",
      "50000/50000 [==============================] - 2s 34us/step - loss: 0.5540 - acc: 0.8022 - val_loss: 1.9720 - val_acc: 0.5166\n",
      "Epoch 62/100\n",
      "50000/50000 [==============================] - 2s 34us/step - loss: 0.5454 - acc: 0.8041 - val_loss: 1.9807 - val_acc: 0.5104\n",
      "Epoch 63/100\n",
      "50000/50000 [==============================] - 2s 34us/step - loss: 0.5311 - acc: 0.8103 - val_loss: 2.0180 - val_acc: 0.5090\n",
      "Epoch 64/100\n",
      "50000/50000 [==============================] - 2s 34us/step - loss: 0.5175 - acc: 0.8151 - val_loss: 2.0711 - val_acc: 0.5109\n",
      "Epoch 65/100\n",
      "50000/50000 [==============================] - 2s 34us/step - loss: 0.5178 - acc: 0.8141 - val_loss: 2.0787 - val_acc: 0.5110\n",
      "Epoch 66/100\n",
      "50000/50000 [==============================] - 2s 34us/step - loss: 0.5089 - acc: 0.8159 - val_loss: 2.1580 - val_acc: 0.4987\n",
      "Epoch 67/100\n",
      "50000/50000 [==============================] - 2s 34us/step - loss: 0.5134 - acc: 0.8165 - val_loss: 2.1256 - val_acc: 0.5135\n",
      "Epoch 68/100\n",
      "50000/50000 [==============================] - 2s 34us/step - loss: 0.5003 - acc: 0.8216 - val_loss: 2.1013 - val_acc: 0.5088\n",
      "Epoch 69/100\n",
      "50000/50000 [==============================] - 2s 33us/step - loss: 0.4960 - acc: 0.8222 - val_loss: 2.2221 - val_acc: 0.5025\n",
      "Epoch 70/100\n",
      "50000/50000 [==============================] - 2s 34us/step - loss: 0.4780 - acc: 0.8291 - val_loss: 2.2486 - val_acc: 0.5074\n",
      "Epoch 71/100\n",
      "50000/50000 [==============================] - 2s 33us/step - loss: 0.4734 - acc: 0.8313 - val_loss: 2.2386 - val_acc: 0.4977\n",
      "Epoch 72/100\n",
      "50000/50000 [==============================] - 2s 34us/step - loss: 0.4703 - acc: 0.8320 - val_loss: 2.1926 - val_acc: 0.5102\n",
      "Epoch 73/100\n",
      "50000/50000 [==============================] - 2s 34us/step - loss: 0.4516 - acc: 0.8388 - val_loss: 2.3622 - val_acc: 0.5046\n",
      "Epoch 74/100\n",
      "50000/50000 [==============================] - 2s 34us/step - loss: 0.4443 - acc: 0.8407 - val_loss: 2.3325 - val_acc: 0.5034\n",
      "Epoch 75/100\n",
      "50000/50000 [==============================] - 2s 34us/step - loss: 0.4404 - acc: 0.8442 - val_loss: 2.3170 - val_acc: 0.5113\n",
      "Epoch 76/100\n",
      "50000/50000 [==============================] - 2s 34us/step - loss: 0.4426 - acc: 0.8428 - val_loss: 2.3297 - val_acc: 0.5102\n",
      "Epoch 77/100\n",
      "50000/50000 [==============================] - 2s 34us/step - loss: 0.4256 - acc: 0.8476 - val_loss: 2.4465 - val_acc: 0.5035\n",
      "Epoch 78/100\n",
      "50000/50000 [==============================] - 2s 34us/step - loss: 0.4214 - acc: 0.8489 - val_loss: 2.3870 - val_acc: 0.4981\n",
      "Epoch 79/100\n",
      "50000/50000 [==============================] - 2s 34us/step - loss: 0.4312 - acc: 0.8445 - val_loss: 2.4473 - val_acc: 0.5044\n",
      "Epoch 80/100\n",
      "50000/50000 [==============================] - 2s 34us/step - loss: 0.4145 - acc: 0.8508 - val_loss: 2.4101 - val_acc: 0.5102\n",
      "Epoch 81/100\n",
      "50000/50000 [==============================] - 2s 34us/step - loss: 0.3894 - acc: 0.8606 - val_loss: 2.5082 - val_acc: 0.4969\n",
      "Epoch 82/100\n",
      "50000/50000 [==============================] - 2s 34us/step - loss: 0.3975 - acc: 0.8575 - val_loss: 2.4853 - val_acc: 0.5074\n",
      "Epoch 83/100\n",
      "50000/50000 [==============================] - 2s 34us/step - loss: 0.3934 - acc: 0.8586 - val_loss: 2.5931 - val_acc: 0.5029\n",
      "Epoch 84/100\n",
      "50000/50000 [==============================] - 2s 35us/step - loss: 0.3772 - acc: 0.8652 - val_loss: 2.5781 - val_acc: 0.5016\n",
      "Epoch 85/100\n",
      "50000/50000 [==============================] - 2s 34us/step - loss: 0.3642 - acc: 0.8706 - val_loss: 2.5643 - val_acc: 0.4993\n",
      "Epoch 86/100\n",
      "50000/50000 [==============================] - 2s 34us/step - loss: 0.3879 - acc: 0.8607 - val_loss: 2.6230 - val_acc: 0.5057\n",
      "Epoch 87/100\n",
      "50000/50000 [==============================] - 2s 34us/step - loss: 0.3758 - acc: 0.8658 - val_loss: 2.5804 - val_acc: 0.5049\n",
      "Epoch 88/100\n",
      "50000/50000 [==============================] - 2s 34us/step - loss: 0.3601 - acc: 0.8712 - val_loss: 2.6509 - val_acc: 0.4956\n",
      "Epoch 89/100\n",
      "50000/50000 [==============================] - 2s 34us/step - loss: 0.3489 - acc: 0.8757 - val_loss: 2.6513 - val_acc: 0.5059\n",
      "Epoch 90/100\n",
      "50000/50000 [==============================] - 2s 34us/step - loss: 0.3654 - acc: 0.8683 - val_loss: 2.6815 - val_acc: 0.4992\n",
      "Epoch 91/100\n",
      "50000/50000 [==============================] - 2s 34us/step - loss: 0.3642 - acc: 0.8685 - val_loss: 2.6821 - val_acc: 0.5043\n",
      "Epoch 92/100\n",
      "50000/50000 [==============================] - 2s 34us/step - loss: 0.3516 - acc: 0.8738 - val_loss: 2.7430 - val_acc: 0.5086\n",
      "Epoch 93/100\n",
      "50000/50000 [==============================] - 2s 34us/step - loss: 0.3356 - acc: 0.8804 - val_loss: 2.7370 - val_acc: 0.5043\n",
      "Epoch 94/100\n",
      "50000/50000 [==============================] - 2s 34us/step - loss: 0.3613 - acc: 0.8697 - val_loss: 2.9130 - val_acc: 0.5001\n",
      "Epoch 95/100\n",
      "50000/50000 [==============================] - 2s 35us/step - loss: 0.3447 - acc: 0.8757 - val_loss: 2.8059 - val_acc: 0.5019\n",
      "Epoch 96/100\n",
      "50000/50000 [==============================] - 2s 34us/step - loss: 0.3149 - acc: 0.8872 - val_loss: 2.8712 - val_acc: 0.4989\n",
      "Epoch 97/100\n",
      "50000/50000 [==============================] - 2s 34us/step - loss: 0.3353 - acc: 0.8794 - val_loss: 2.8873 - val_acc: 0.5038\n",
      "Epoch 98/100\n",
      "50000/50000 [==============================] - 2s 34us/step - loss: 0.3222 - acc: 0.8847 - val_loss: 2.9376 - val_acc: 0.5012\n",
      "Epoch 99/100\n",
      "50000/50000 [==============================] - 2s 35us/step - loss: 0.3116 - acc: 0.8874 - val_loss: 2.9440 - val_acc: 0.5029\n",
      "Epoch 100/100\n",
      "50000/50000 [==============================] - 2s 34us/step - loss: 0.3030 - acc: 0.8914 - val_loss: 2.9574 - val_acc: 0.5026\n"
     ]
    },
    {
     "data": {
      "text/plain": [
       "<keras.callbacks.History at 0x18f58c0a7f0>"
      ]
     },
     "execution_count": 9,
     "metadata": {},
     "output_type": "execute_result"
    }
   ],
   "source": [
    "model.fit(x_train, y_train, \n",
    "          epochs=EPOCHS, \n",
    "          batch_size=BATCH_SIZE, \n",
    "          validation_data=(x_test, y_test), \n",
    "          shuffle=True)"
   ]
  },
  {
   "cell_type": "code",
   "execution_count": 11,
   "metadata": {},
   "outputs": [
    {
     "data": {
      "image/png": "[encoded data removed]",
      "text/plain": [
       "<Figure size 432x288 with 1 Axes>"
      ]
     },
     "metadata": {
      "needs_background": "light"
     },
     "output_type": "display_data"
    },
    {
     "data": {
      "image/png": "[encoded data removed]",
      "text/plain": [
       "<Figure size 432x288 with 1 Axes>"
      ]
     },
     "metadata": {
      "needs_background": "light"
     },
     "output_type": "display_data"
    }
   ],
   "source": [
    "# 訓練模型並檢視驗證集的結果\n",
    "import matplotlib.pyplot as plt\n",
    "%matplotlib inline\n",
    "\n",
    "train_loss = model.history.history[\"loss\"]\n",
    "valid_loss = model.history.history[\"val_loss\"]\n",
    "\n",
    "train_acc = model.history.history[\"acc\"]\n",
    "valid_acc = model.history.history[\"val_acc\"]\n",
    "\n",
    "plt.plot(range(len(train_loss)), train_loss, label=\"train loss\")\n",
    "plt.plot(range(len(valid_loss)), valid_loss, label=\"valid loss\")\n",
    "plt.legend()\n",
    "plt.title(\"Loss\")\n",
    "plt.show()\n",
    "\n",
    "plt.plot(range(len(train_acc)), train_acc, label=\"train accuracy\")\n",
    "plt.plot(range(len(valid_acc)), valid_acc, label=\"valid accuracy\")\n",
    "plt.legend()\n",
    "plt.title(\"Accuracy\")\n",
    "plt.show()"
   ]
  },
  {
   "cell_type": "markdown",
   "metadata": {},
   "source": [
    "## Work\n",
    "1. 請嘗試將 preproc_x 替換成以每筆資料的 min/max 進行標準化至 -1 ~ 1 間，再進行訓練\n",
    "2. 請嘗試將 mlp 疊更深 (e.g 5~10 層)，進行訓練後觀察 learning curve 的走勢\n",
    "3. (optional) 請改用 GPU 進行訓練 (如果你有 GPU 的話)，比較使用 CPU 與 GPU 的訓練速度"
   ]
  }
 ],
 "metadata": {
  "kernelspec": {
   "display_name": "Python 3",
   "language": "python",
   "name": "python3"
  },
  "language_info": {
   "codemirror_mode": {
    "name": "ipython",
    "version": 3
   },
   "file_extension": ".py",
   "mimetype": "text/x-python",
   "name": "python",
   "nbconvert_exporter": "python",
   "pygments_lexer": "ipython3",
   "version": "3.7.3"
  }
 },
 "nbformat": 4,
 "nbformat_minor": 2
}
