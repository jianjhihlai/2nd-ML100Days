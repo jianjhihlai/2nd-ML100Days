{
 "cells": [
  {
   "cell_type": "markdown",
   "metadata": {},
   "source": [
    "## Work\n",
    "1. 請嘗試將 preproc_x 替換成以每筆資料的 min/max 進行標準化至 -1 ~ 1 間，再進行訓練\n",
    "2. 請嘗試將 mlp 疊更深 (e.g 5~10 層)，進行訓練後觀察 learning curve 的走勢\n",
    "3. (optional) 請改用 GPU 進行訓練 (如果你有 GPU 的話)，比較使用 CPU 與 GPU 的訓練速度"
   ]
  },
  {
   "cell_type": "code",
   "execution_count": null,
   "metadata": {},
   "outputs": [],
   "source": [
    "## \n",
    "\"\"\"\n",
    "Your code here (optional)\n",
    "確認硬體資源\n",
    "\"\"\"\n"
   ]
  },
  {
   "cell_type": "code",
   "execution_count": 1,
   "metadata": {},
   "outputs": [
    {
     "name": "stderr",
     "output_type": "stream",
     "text": [
      "Using TensorFlow backend.\n"
     ]
    }
   ],
   "source": [
    "import os\n",
    "import keras\n",
    "\n",
    "# 請嘗試設定 GPU：os.environ\n",
    "os.environ[\"CUDA_VISIBLE_DEVICES\"] = \"0\""
   ]
  },
  {
   "cell_type": "code",
   "execution_count": 2,
   "metadata": {},
   "outputs": [],
   "source": [
    "train, test = keras.datasets.cifar10.load_data()"
   ]
  },
  {
   "cell_type": "code",
   "execution_count": 3,
   "metadata": {},
   "outputs": [],
   "source": [
    "## 資料前處理\n",
    "\"\"\"\n",
    "Your code here\n",
    "\"\"\"\n",
    "def preproc_x(x, flatten=True):\n",
    "    x = (x / 255.) * 2 - 1\n",
    "    if flatten:\n",
    "        x = x.reshape((len(x), -1))\n",
    "    return x\n",
    "\n",
    "def preproc_y(y, num_classes=10):\n",
    "    if y.shape[-1] == 1:\n",
    "        y = keras.utils.to_categorical(y, num_classes)\n",
    "    return y"
   ]
  },
  {
   "cell_type": "code",
   "execution_count": 4,
   "metadata": {},
   "outputs": [],
   "source": [
    "x_train, y_train = train\n",
    "x_test, y_test = test\n",
    "\n",
    "# Preproc the inputs\n",
    "x_train = preproc_x(x_train)\n",
    "x_test = preproc_x(x_test)\n",
    "\n",
    "# Preprc the outputs\n",
    "y_train = preproc_y(y_train)\n",
    "y_test = preproc_y(y_test)"
   ]
  },
  {
   "cell_type": "code",
   "execution_count": 5,
   "metadata": {},
   "outputs": [
    {
     "name": "stdout",
     "output_type": "stream",
     "text": [
      "WARNING:tensorflow:From c:\\python\\miniconda3\\envs\\lsi_env\\lib\\site-packages\\tensorflow\\python\\framework\\op_def_library.py:263: colocate_with (from tensorflow.python.framework.ops) is deprecated and will be removed in a future version.\n",
      "Instructions for updating:\n",
      "Colocations handled automatically by placer.\n",
      "_________________________________________________________________\n",
      "Layer (type)                 Output Shape              Param #   \n",
      "=================================================================\n",
      "input_1 (InputLayer)         (None, 3072)              0         \n",
      "_________________________________________________________________\n",
      "hidden_layer1 (Dense)        (None, 512)               1573376   \n",
      "_________________________________________________________________\n",
      "hidden_layer2 (Dense)        (None, 256)               131328    \n",
      "_________________________________________________________________\n",
      "hidden_layer3 (Dense)        (None, 256)               65792     \n",
      "_________________________________________________________________\n",
      "hidden_layer4 (Dense)        (None, 128)               32896     \n",
      "_________________________________________________________________\n",
      "hidden_layer5 (Dense)        (None, 128)               16512     \n",
      "_________________________________________________________________\n",
      "hidden_layer6 (Dense)        (None, 64)                8256      \n",
      "_________________________________________________________________\n",
      "output (Dense)               (None, 10)                650       \n",
      "=================================================================\n",
      "Total params: 1,828,810\n",
      "Trainable params: 1,828,810\n",
      "Non-trainable params: 0\n",
      "_________________________________________________________________\n"
     ]
    }
   ],
   "source": [
    "\"\"\"Code Here\n",
    "建立你的神經網路\n",
    "\"\"\"\n",
    "def build_mlp(input_shape, output_units=10, num_neurons=[512, 256, 256, 128, 128, 64]):\n",
    "    input_layer = keras.layers.Input(input_shape)\n",
    "    \n",
    "    for i, n_units in enumerate(num_neurons):\n",
    "        if i == 0:\n",
    "            x = keras.layers.Dense(units=n_units, activation=\"relu\", name=\"hidden_layer\"+str(i+1))(input_layer)\n",
    "        else:\n",
    "            x = keras.layers.Dense(units=n_units, activation=\"relu\", name=\"hidden_layer\"+str(i+1))(x)\n",
    "    \n",
    "    out = keras.layers.Dense(units=output_units, activation=\"softmax\", name=\"output\")(x)\n",
    "    \n",
    "    model = keras.models.Model(inputs=[input_layer], outputs=[out])\n",
    "    return model\n",
    "model = build_mlp(input_shape=x_train.shape[1:])\n",
    "model.summary()"
   ]
  },
  {
   "cell_type": "code",
   "execution_count": 6,
   "metadata": {},
   "outputs": [],
   "source": [
    "## 超參數設定\n",
    "LEARNING_RATE = 0.001\n",
    "EPOCHS = 100\n",
    "BATCH_SIZE = 256"
   ]
  },
  {
   "cell_type": "code",
   "execution_count": 7,
   "metadata": {},
   "outputs": [],
   "source": [
    "optimizer = keras.optimizers.Adam(lr=LEARNING_RATE)\n",
    "model.compile(loss=\"categorical_crossentropy\", metrics=[\"accuracy\"], optimizer=optimizer)"
   ]
  },
  {
   "cell_type": "code",
   "execution_count": 8,
   "metadata": {},
   "outputs": [
    {
     "name": "stdout",
     "output_type": "stream",
     "text": [
      "WARNING:tensorflow:From c:\\python\\miniconda3\\envs\\lsi_env\\lib\\site-packages\\tensorflow\\python\\ops\\math_ops.py:3066: to_int32 (from tensorflow.python.ops.math_ops) is deprecated and will be removed in a future version.\n",
      "Instructions for updating:\n",
      "Use tf.cast instead.\n",
      "Train on 50000 samples, validate on 10000 samples\n",
      "Epoch 1/100\n",
      "50000/50000 [==============================] - 3s 69us/step - loss: 1.6998 - acc: 0.3928 - val_loss: 1.5439 - val_acc: 0.4520\n",
      "Epoch 2/100\n",
      "50000/50000 [==============================] - 2s 38us/step - loss: 1.4683 - acc: 0.4805 - val_loss: 1.4750 - val_acc: 0.4830\n",
      "Epoch 3/100\n",
      "50000/50000 [==============================] - 2s 38us/step - loss: 1.3521 - acc: 0.5220 - val_loss: 1.4035 - val_acc: 0.5005\n",
      "Epoch 4/100\n",
      "50000/50000 [==============================] - 2s 38us/step - loss: 1.2550 - acc: 0.5569 - val_loss: 1.3626 - val_acc: 0.5250\n",
      "Epoch 5/100\n",
      "50000/50000 [==============================] - 2s 38us/step - loss: 1.1734 - acc: 0.5861 - val_loss: 1.3413 - val_acc: 0.5306\n",
      "Epoch 6/100\n",
      "50000/50000 [==============================] - 2s 38us/step - loss: 1.0936 - acc: 0.6159 - val_loss: 1.3796 - val_acc: 0.5243\n",
      "Epoch 7/100\n",
      "50000/50000 [==============================] - 2s 38us/step - loss: 1.0253 - acc: 0.6374 - val_loss: 1.3926 - val_acc: 0.5341\n",
      "Epoch 8/100\n",
      "50000/50000 [==============================] - 2s 38us/step - loss: 0.9492 - acc: 0.6637 - val_loss: 1.3989 - val_acc: 0.5386\n",
      "Epoch 9/100\n",
      "50000/50000 [==============================] - 2s 39us/step - loss: 0.8702 - acc: 0.6903 - val_loss: 1.4264 - val_acc: 0.5353\n",
      "Epoch 10/100\n",
      "50000/50000 [==============================] - 2s 38us/step - loss: 0.8097 - acc: 0.7131 - val_loss: 1.4744 - val_acc: 0.5373\n",
      "Epoch 11/100\n",
      "50000/50000 [==============================] - 2s 38us/step - loss: 0.7517 - acc: 0.7325 - val_loss: 1.5053 - val_acc: 0.5351\n",
      "Epoch 12/100\n",
      "50000/50000 [==============================] - 2s 38us/step - loss: 0.6884 - acc: 0.7537 - val_loss: 1.5819 - val_acc: 0.5317\n",
      "Epoch 13/100\n",
      "50000/50000 [==============================] - 2s 38us/step - loss: 0.6260 - acc: 0.7777 - val_loss: 1.6374 - val_acc: 0.5443\n",
      "Epoch 14/100\n",
      "50000/50000 [==============================] - 2s 38us/step - loss: 0.5704 - acc: 0.7955 - val_loss: 1.7781 - val_acc: 0.5312\n",
      "Epoch 15/100\n",
      "50000/50000 [==============================] - 2s 39us/step - loss: 0.5327 - acc: 0.8117 - val_loss: 1.7496 - val_acc: 0.5307\n",
      "Epoch 16/100\n",
      "50000/50000 [==============================] - 2s 38us/step - loss: 0.4847 - acc: 0.8273 - val_loss: 1.9147 - val_acc: 0.5284\n",
      "Epoch 17/100\n",
      "50000/50000 [==============================] - 2s 38us/step - loss: 0.4272 - acc: 0.8484 - val_loss: 1.9799 - val_acc: 0.5320\n",
      "Epoch 18/100\n",
      "50000/50000 [==============================] - 2s 38us/step - loss: 0.4132 - acc: 0.8550 - val_loss: 2.0426 - val_acc: 0.5272\n",
      "Epoch 19/100\n",
      "50000/50000 [==============================] - 2s 37us/step - loss: 0.3732 - acc: 0.8674 - val_loss: 2.1627 - val_acc: 0.5360\n",
      "Epoch 20/100\n",
      "50000/50000 [==============================] - 2s 37us/step - loss: 0.3507 - acc: 0.8760 - val_loss: 2.2005 - val_acc: 0.5360\n",
      "Epoch 21/100\n",
      "50000/50000 [==============================] - 2s 37us/step - loss: 0.3356 - acc: 0.8815 - val_loss: 2.2731 - val_acc: 0.5388\n",
      "Epoch 22/100\n",
      "50000/50000 [==============================] - 2s 37us/step - loss: 0.2935 - acc: 0.8977 - val_loss: 2.3294 - val_acc: 0.5298\n",
      "Epoch 23/100\n",
      "50000/50000 [==============================] - 2s 37us/step - loss: 0.2931 - acc: 0.8969 - val_loss: 2.4172 - val_acc: 0.5325\n",
      "Epoch 24/100\n",
      "50000/50000 [==============================] - 2s 38us/step - loss: 0.2582 - acc: 0.9102 - val_loss: 2.5927 - val_acc: 0.5328\n",
      "Epoch 25/100\n",
      "50000/50000 [==============================] - 2s 38us/step - loss: 0.2542 - acc: 0.9113 - val_loss: 2.6342 - val_acc: 0.5243\n",
      "Epoch 26/100\n",
      "50000/50000 [==============================] - 2s 38us/step - loss: 0.2440 - acc: 0.9143 - val_loss: 2.6503 - val_acc: 0.5251\n",
      "Epoch 27/100\n",
      "50000/50000 [==============================] - 2s 38us/step - loss: 0.2242 - acc: 0.9223 - val_loss: 2.7840 - val_acc: 0.5191\n",
      "Epoch 28/100\n",
      "50000/50000 [==============================] - 2s 39us/step - loss: 0.2266 - acc: 0.9217 - val_loss: 2.7490 - val_acc: 0.5256\n",
      "Epoch 29/100\n",
      "50000/50000 [==============================] - 2s 38us/step - loss: 0.2130 - acc: 0.9273 - val_loss: 2.7198 - val_acc: 0.5297\n",
      "Epoch 30/100\n",
      "50000/50000 [==============================] - 2s 38us/step - loss: 0.2033 - acc: 0.9291 - val_loss: 2.8084 - val_acc: 0.5249\n",
      "Epoch 31/100\n",
      "50000/50000 [==============================] - 2s 38us/step - loss: 0.1859 - acc: 0.9359 - val_loss: 2.9326 - val_acc: 0.5357\n",
      "Epoch 32/100\n",
      "50000/50000 [==============================] - 2s 38us/step - loss: 0.2014 - acc: 0.9307 - val_loss: 2.9127 - val_acc: 0.5279\n",
      "Epoch 33/100\n",
      "50000/50000 [==============================] - 2s 37us/step - loss: 0.1670 - acc: 0.9435 - val_loss: 3.0165 - val_acc: 0.5259\n",
      "Epoch 34/100\n",
      "50000/50000 [==============================] - 2s 38us/step - loss: 0.1754 - acc: 0.9397 - val_loss: 2.8565 - val_acc: 0.5326\n",
      "Epoch 35/100\n",
      "50000/50000 [==============================] - 2s 38us/step - loss: 0.1740 - acc: 0.9399 - val_loss: 2.9768 - val_acc: 0.5231\n",
      "Epoch 36/100\n",
      "50000/50000 [==============================] - 2s 38us/step - loss: 0.1508 - acc: 0.9479 - val_loss: 3.1335 - val_acc: 0.5314\n",
      "Epoch 37/100\n",
      "50000/50000 [==============================] - 2s 38us/step - loss: 0.1487 - acc: 0.9496 - val_loss: 3.2391 - val_acc: 0.5317\n",
      "Epoch 38/100\n",
      "50000/50000 [==============================] - 2s 38us/step - loss: 0.1523 - acc: 0.9489 - val_loss: 3.1317 - val_acc: 0.5282\n",
      "Epoch 39/100\n",
      "50000/50000 [==============================] - 2s 37us/step - loss: 0.1297 - acc: 0.9555 - val_loss: 3.2932 - val_acc: 0.5279\n",
      "Epoch 40/100\n",
      "50000/50000 [==============================] - 2s 38us/step - loss: 0.1418 - acc: 0.9528 - val_loss: 3.2275 - val_acc: 0.5308\n",
      "Epoch 41/100\n",
      "50000/50000 [==============================] - 2s 38us/step - loss: 0.1381 - acc: 0.9531 - val_loss: 3.3126 - val_acc: 0.5281\n",
      "Epoch 42/100\n",
      "50000/50000 [==============================] - 2s 37us/step - loss: 0.1335 - acc: 0.9552 - val_loss: 3.2118 - val_acc: 0.5307\n",
      "Epoch 43/100\n",
      "50000/50000 [==============================] - 2s 38us/step - loss: 0.1287 - acc: 0.9573 - val_loss: 3.1706 - val_acc: 0.5290\n",
      "Epoch 44/100\n",
      "50000/50000 [==============================] - 2s 38us/step - loss: 0.1422 - acc: 0.9521 - val_loss: 3.3253 - val_acc: 0.5259\n",
      "Epoch 45/100\n",
      "50000/50000 [==============================] - 2s 37us/step - loss: 0.1385 - acc: 0.9530 - val_loss: 3.3030 - val_acc: 0.5313\n",
      "Epoch 46/100\n",
      "50000/50000 [==============================] - 2s 38us/step - loss: 0.1187 - acc: 0.9610 - val_loss: 3.3580 - val_acc: 0.5309\n",
      "Epoch 47/100\n",
      "50000/50000 [==============================] - 2s 38us/step - loss: 0.1247 - acc: 0.9579 - val_loss: 3.3259 - val_acc: 0.5257\n",
      "Epoch 48/100\n",
      "50000/50000 [==============================] - 2s 38us/step - loss: 0.1141 - acc: 0.9623 - val_loss: 3.3962 - val_acc: 0.5293\n",
      "Epoch 49/100\n",
      "50000/50000 [==============================] - 2s 39us/step - loss: 0.1170 - acc: 0.9604 - val_loss: 3.4656 - val_acc: 0.5246\n",
      "Epoch 50/100\n",
      "50000/50000 [==============================] - 2s 39us/step - loss: 0.1217 - acc: 0.9598 - val_loss: 3.3063 - val_acc: 0.5253\n",
      "Epoch 51/100\n",
      "50000/50000 [==============================] - 2s 37us/step - loss: 0.1250 - acc: 0.9593 - val_loss: 3.3512 - val_acc: 0.5243\n",
      "Epoch 52/100\n",
      "50000/50000 [==============================] - 2s 38us/step - loss: 0.1009 - acc: 0.9671 - val_loss: 3.5321 - val_acc: 0.5192\n",
      "Epoch 53/100\n",
      "50000/50000 [==============================] - 2s 38us/step - loss: 0.1077 - acc: 0.9641 - val_loss: 3.3952 - val_acc: 0.5340\n",
      "Epoch 54/100\n",
      "50000/50000 [==============================] - 2s 38us/step - loss: 0.1031 - acc: 0.9659 - val_loss: 3.4458 - val_acc: 0.5260\n",
      "Epoch 55/100\n",
      "50000/50000 [==============================] - 2s 37us/step - loss: 0.1070 - acc: 0.9655 - val_loss: 3.4591 - val_acc: 0.5347\n",
      "Epoch 56/100\n",
      "50000/50000 [==============================] - 2s 38us/step - loss: 0.1050 - acc: 0.9659 - val_loss: 3.3806 - val_acc: 0.5347\n",
      "Epoch 57/100\n",
      "50000/50000 [==============================] - 2s 38us/step - loss: 0.0911 - acc: 0.9696 - val_loss: 3.4705 - val_acc: 0.5233\n"
     ]
    },
    {
     "name": "stdout",
     "output_type": "stream",
     "text": [
      "Epoch 58/100\n",
      "50000/50000 [==============================] - 2s 38us/step - loss: 0.1158 - acc: 0.9625 - val_loss: 3.4321 - val_acc: 0.5296\n",
      "Epoch 59/100\n",
      "50000/50000 [==============================] - 2s 37us/step - loss: 0.1023 - acc: 0.9655 - val_loss: 3.4970 - val_acc: 0.5301\n",
      "Epoch 60/100\n",
      "50000/50000 [==============================] - 2s 39us/step - loss: 0.0946 - acc: 0.9691 - val_loss: 3.6139 - val_acc: 0.5298\n",
      "Epoch 61/100\n",
      "50000/50000 [==============================] - 2s 39us/step - loss: 0.0948 - acc: 0.9686 - val_loss: 3.6013 - val_acc: 0.5316\n",
      "Epoch 62/100\n",
      "50000/50000 [==============================] - 2s 37us/step - loss: 0.0826 - acc: 0.9725 - val_loss: 3.6743 - val_acc: 0.5285\n",
      "Epoch 63/100\n",
      "50000/50000 [==============================] - 2s 37us/step - loss: 0.1054 - acc: 0.9654 - val_loss: 3.4079 - val_acc: 0.5244\n",
      "Epoch 64/100\n",
      "50000/50000 [==============================] - 2s 37us/step - loss: 0.0940 - acc: 0.9699 - val_loss: 3.5597 - val_acc: 0.5218\n",
      "Epoch 65/100\n",
      "50000/50000 [==============================] - 2s 38us/step - loss: 0.0902 - acc: 0.9706 - val_loss: 3.5307 - val_acc: 0.5310\n",
      "Epoch 66/100\n",
      "50000/50000 [==============================] - 2s 38us/step - loss: 0.0785 - acc: 0.9745 - val_loss: 3.5807 - val_acc: 0.5238\n",
      "Epoch 67/100\n",
      "50000/50000 [==============================] - 2s 38us/step - loss: 0.0972 - acc: 0.9688 - val_loss: 3.4515 - val_acc: 0.5250\n",
      "Epoch 68/100\n",
      "50000/50000 [==============================] - 2s 37us/step - loss: 0.0881 - acc: 0.9704 - val_loss: 3.6284 - val_acc: 0.5245\n",
      "Epoch 69/100\n",
      "50000/50000 [==============================] - 2s 38us/step - loss: 0.0870 - acc: 0.9714 - val_loss: 3.5124 - val_acc: 0.5284\n",
      "Epoch 70/100\n",
      "50000/50000 [==============================] - 2s 38us/step - loss: 0.0780 - acc: 0.9742 - val_loss: 3.5119 - val_acc: 0.5332\n",
      "Epoch 71/100\n",
      "50000/50000 [==============================] - 2s 38us/step - loss: 0.1039 - acc: 0.9674 - val_loss: 3.5161 - val_acc: 0.5337\n",
      "Epoch 72/100\n",
      "50000/50000 [==============================] - 2s 37us/step - loss: 0.0735 - acc: 0.9761 - val_loss: 3.6239 - val_acc: 0.5239\n",
      "Epoch 73/100\n",
      "50000/50000 [==============================] - 2s 38us/step - loss: 0.0782 - acc: 0.9750 - val_loss: 3.7319 - val_acc: 0.5283\n",
      "Epoch 74/100\n",
      "50000/50000 [==============================] - 2s 38us/step - loss: 0.0840 - acc: 0.9729 - val_loss: 3.5392 - val_acc: 0.5293\n",
      "Epoch 75/100\n",
      "50000/50000 [==============================] - 2s 38us/step - loss: 0.0792 - acc: 0.9751 - val_loss: 3.6790 - val_acc: 0.5224\n",
      "Epoch 76/100\n",
      "50000/50000 [==============================] - 2s 37us/step - loss: 0.0789 - acc: 0.9743 - val_loss: 3.5650 - val_acc: 0.5311\n",
      "Epoch 77/100\n",
      "50000/50000 [==============================] - 2s 38us/step - loss: 0.0812 - acc: 0.9729 - val_loss: 3.6365 - val_acc: 0.5263\n",
      "Epoch 78/100\n",
      "50000/50000 [==============================] - 2s 38us/step - loss: 0.0889 - acc: 0.9710 - val_loss: 3.5565 - val_acc: 0.5264\n",
      "Epoch 79/100\n",
      "50000/50000 [==============================] - 2s 38us/step - loss: 0.0592 - acc: 0.9808 - val_loss: 3.7288 - val_acc: 0.5275\n",
      "Epoch 80/100\n",
      "50000/50000 [==============================] - 2s 38us/step - loss: 0.0769 - acc: 0.9752 - val_loss: 3.7195 - val_acc: 0.5326\n",
      "Epoch 81/100\n",
      "50000/50000 [==============================] - 2s 38us/step - loss: 0.0779 - acc: 0.9744 - val_loss: 3.4759 - val_acc: 0.5254\n",
      "Epoch 82/100\n",
      "50000/50000 [==============================] - 2s 38us/step - loss: 0.0790 - acc: 0.9754 - val_loss: 3.6513 - val_acc: 0.5336\n",
      "Epoch 83/100\n",
      "50000/50000 [==============================] - 2s 37us/step - loss: 0.0579 - acc: 0.9820 - val_loss: 3.7413 - val_acc: 0.5233\n",
      "Epoch 84/100\n",
      "50000/50000 [==============================] - 2s 38us/step - loss: 0.0785 - acc: 0.9762 - val_loss: 3.6314 - val_acc: 0.5220\n",
      "Epoch 85/100\n",
      "50000/50000 [==============================] - 2s 39us/step - loss: 0.0683 - acc: 0.9781 - val_loss: 3.6599 - val_acc: 0.5369\n",
      "Epoch 86/100\n",
      "50000/50000 [==============================] - 2s 38us/step - loss: 0.0638 - acc: 0.9802 - val_loss: 3.7531 - val_acc: 0.5392\n",
      "Epoch 87/100\n",
      "50000/50000 [==============================] - 2s 38us/step - loss: 0.0778 - acc: 0.9752 - val_loss: 3.6690 - val_acc: 0.5305\n",
      "Epoch 88/100\n",
      "50000/50000 [==============================] - 2s 38us/step - loss: 0.0828 - acc: 0.9735 - val_loss: 3.4569 - val_acc: 0.5400\n",
      "Epoch 89/100\n",
      "50000/50000 [==============================] - 2s 38us/step - loss: 0.0616 - acc: 0.9798 - val_loss: 3.7685 - val_acc: 0.5286\n",
      "Epoch 90/100\n",
      "50000/50000 [==============================] - 2s 37us/step - loss: 0.0625 - acc: 0.9800 - val_loss: 3.7722 - val_acc: 0.5384\n",
      "Epoch 91/100\n",
      "50000/50000 [==============================] - 2s 38us/step - loss: 0.0621 - acc: 0.9803 - val_loss: 3.7411 - val_acc: 0.5277\n",
      "Epoch 92/100\n",
      "50000/50000 [==============================] - 2s 38us/step - loss: 0.0723 - acc: 0.9773 - val_loss: 3.6253 - val_acc: 0.5264\n",
      "Epoch 93/100\n",
      "50000/50000 [==============================] - 2s 38us/step - loss: 0.0656 - acc: 0.9792 - val_loss: 3.6714 - val_acc: 0.5308\n",
      "Epoch 94/100\n",
      "50000/50000 [==============================] - 2s 37us/step - loss: 0.0701 - acc: 0.9767 - val_loss: 3.5390 - val_acc: 0.5307\n",
      "Epoch 95/100\n",
      "50000/50000 [==============================] - 2s 38us/step - loss: 0.0557 - acc: 0.9818 - val_loss: 3.8722 - val_acc: 0.5232\n",
      "Epoch 96/100\n",
      "50000/50000 [==============================] - 2s 38us/step - loss: 0.0799 - acc: 0.9752 - val_loss: 3.6312 - val_acc: 0.5279\n",
      "Epoch 97/100\n",
      "50000/50000 [==============================] - 2s 38us/step - loss: 0.0630 - acc: 0.9792 - val_loss: 3.6448 - val_acc: 0.5347\n",
      "Epoch 98/100\n",
      "50000/50000 [==============================] - 2s 38us/step - loss: 0.0624 - acc: 0.9803 - val_loss: 3.7538 - val_acc: 0.5263\n",
      "Epoch 99/100\n",
      "50000/50000 [==============================] - 2s 38us/step - loss: 0.0502 - acc: 0.9838 - val_loss: 3.7948 - val_acc: 0.5346\n",
      "Epoch 100/100\n",
      "50000/50000 [==============================] - 2s 38us/step - loss: 0.0664 - acc: 0.9796 - val_loss: 3.6912 - val_acc: 0.5270\n"
     ]
    },
    {
     "data": {
      "text/plain": [
       "<keras.callbacks.History at 0x16f7fc037b8>"
      ]
     },
     "execution_count": 8,
     "metadata": {},
     "output_type": "execute_result"
    }
   ],
   "source": [
    "model.fit(x_train, y_train, \n",
    "          epochs=EPOCHS, \n",
    "          batch_size=BATCH_SIZE, \n",
    "          validation_data=(x_test, y_test), \n",
    "          shuffle=True)"
   ]
  },
  {
   "cell_type": "code",
   "execution_count": 9,
   "metadata": {},
   "outputs": [
    {
     "data": {
      "image/png": "[encoded data removed]",
      "text/plain": [
       "<Figure size 432x288 with 1 Axes>"
      ]
     },
     "metadata": {
      "needs_background": "light"
     },
     "output_type": "display_data"
    },
    {
     "data": {
      "image/png": "[encoded data removed]",
      "text/plain": [
       "<Figure size 432x288 with 1 Axes>"
      ]
     },
     "metadata": {
      "needs_background": "light"
     },
     "output_type": "display_data"
    }
   ],
   "source": [
    "import matplotlib.pyplot as plt\n",
    "%matplotlib inline\n",
    "\n",
    "train_loss = model.history.history[\"loss\"]\n",
    "valid_loss = model.history.history[\"val_loss\"]\n",
    "\n",
    "train_acc = model.history.history[\"acc\"]\n",
    "valid_acc = model.history.history[\"val_acc\"]\n",
    "\n",
    "plt.plot(range(len(train_loss)), train_loss, label=\"train loss\")\n",
    "plt.plot(range(len(valid_loss)), valid_loss, label=\"valid loss\")\n",
    "plt.legend()\n",
    "plt.title(\"Loss\")\n",
    "plt.show()\n",
    "\n",
    "plt.plot(range(len(train_acc)), train_acc, label=\"train accuracy\")\n",
    "plt.plot(range(len(valid_acc)), valid_acc, label=\"valid accuracy\")\n",
    "plt.legend()\n",
    "plt.title(\"Accuracy\")\n",
    "plt.show()"
   ]
  }
 ],
 "metadata": {
  "kernelspec": {
   "display_name": "Python 3",
   "language": "python",
   "name": "python3"
  },
  "language_info": {
   "codemirror_mode": {
    "name": "ipython",
    "version": 3
   },
   "file_extension": ".py",
   "mimetype": "text/x-python",
   "name": "python",
   "nbconvert_exporter": "python",
   "pygments_lexer": "ipython3",
   "version": "3.7.3"
  }
 },
 "nbformat": 4,
 "nbformat_minor": 2
}
